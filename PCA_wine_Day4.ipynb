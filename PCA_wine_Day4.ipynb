{
 "cells": [
  {
   "cell_type": "code",
   "execution_count": 1,
   "metadata": {},
   "outputs": [],
   "source": [
    "import pandas as pd\n",
    "import numpy as np"
   ]
  },
  {
   "cell_type": "code",
   "execution_count": 2,
   "metadata": {},
   "outputs": [],
   "source": [
    "names = ['Cultivator','Alcohol',\n",
    "'Malic_acid'\n",
    ",'Ash'\n",
    ",'Alcalinity_of_ash'\n",
    ",'Magnesium'\n",
    ",'Total_phenols'\n",
    ",'Flavanoids'\n",
    ",'Nonflavanoid_phenols'\n",
    ",'Proanthocyanins'\n",
    ",'Color_intensity'\n",
    ",'Hue'\n",
    ",'OD280'\n",
    ",'Proline']\n"
   ]
  },
  {
   "cell_type": "code",
   "execution_count": 3,
   "metadata": {},
   "outputs": [],
   "source": [
    "wine_data = pd.read_csv('wine.xls', header=None, names=names)"
   ]
  },
  {
   "cell_type": "code",
   "execution_count": 4,
   "metadata": {},
   "outputs": [
    {
     "data": {
      "text/html": [
       "<div>\n",
       "<style scoped>\n",
       "    .dataframe tbody tr th:only-of-type {\n",
       "        vertical-align: middle;\n",
       "    }\n",
       "\n",
       "    .dataframe tbody tr th {\n",
       "        vertical-align: top;\n",
       "    }\n",
       "\n",
       "    .dataframe thead th {\n",
       "        text-align: right;\n",
       "    }\n",
       "</style>\n",
       "<table border=\"1\" class=\"dataframe\">\n",
       "  <thead>\n",
       "    <tr style=\"text-align: right;\">\n",
       "      <th></th>\n",
       "      <th>Cultivator</th>\n",
       "      <th>Alcohol</th>\n",
       "      <th>Malic_acid</th>\n",
       "      <th>Ash</th>\n",
       "      <th>Alcalinity_of_ash</th>\n",
       "      <th>Magnesium</th>\n",
       "      <th>Total_phenols</th>\n",
       "      <th>Flavanoids</th>\n",
       "      <th>Nonflavanoid_phenols</th>\n",
       "      <th>Proanthocyanins</th>\n",
       "      <th>Color_intensity</th>\n",
       "      <th>Hue</th>\n",
       "      <th>OD280</th>\n",
       "      <th>Proline</th>\n",
       "    </tr>\n",
       "  </thead>\n",
       "  <tbody>\n",
       "    <tr>\n",
       "      <th>0</th>\n",
       "      <td>1</td>\n",
       "      <td>14.23</td>\n",
       "      <td>1.71</td>\n",
       "      <td>2.43</td>\n",
       "      <td>15.6</td>\n",
       "      <td>127</td>\n",
       "      <td>2.80</td>\n",
       "      <td>3.06</td>\n",
       "      <td>0.28</td>\n",
       "      <td>2.29</td>\n",
       "      <td>5.64</td>\n",
       "      <td>1.04</td>\n",
       "      <td>3.92</td>\n",
       "      <td>1065</td>\n",
       "    </tr>\n",
       "    <tr>\n",
       "      <th>1</th>\n",
       "      <td>1</td>\n",
       "      <td>13.20</td>\n",
       "      <td>1.78</td>\n",
       "      <td>2.14</td>\n",
       "      <td>11.2</td>\n",
       "      <td>100</td>\n",
       "      <td>2.65</td>\n",
       "      <td>2.76</td>\n",
       "      <td>0.26</td>\n",
       "      <td>1.28</td>\n",
       "      <td>4.38</td>\n",
       "      <td>1.05</td>\n",
       "      <td>3.40</td>\n",
       "      <td>1050</td>\n",
       "    </tr>\n",
       "    <tr>\n",
       "      <th>2</th>\n",
       "      <td>1</td>\n",
       "      <td>13.16</td>\n",
       "      <td>2.36</td>\n",
       "      <td>2.67</td>\n",
       "      <td>18.6</td>\n",
       "      <td>101</td>\n",
       "      <td>2.80</td>\n",
       "      <td>3.24</td>\n",
       "      <td>0.30</td>\n",
       "      <td>2.81</td>\n",
       "      <td>5.68</td>\n",
       "      <td>1.03</td>\n",
       "      <td>3.17</td>\n",
       "      <td>1185</td>\n",
       "    </tr>\n",
       "    <tr>\n",
       "      <th>3</th>\n",
       "      <td>1</td>\n",
       "      <td>14.37</td>\n",
       "      <td>1.95</td>\n",
       "      <td>2.50</td>\n",
       "      <td>16.8</td>\n",
       "      <td>113</td>\n",
       "      <td>3.85</td>\n",
       "      <td>3.49</td>\n",
       "      <td>0.24</td>\n",
       "      <td>2.18</td>\n",
       "      <td>7.80</td>\n",
       "      <td>0.86</td>\n",
       "      <td>3.45</td>\n",
       "      <td>1480</td>\n",
       "    </tr>\n",
       "    <tr>\n",
       "      <th>4</th>\n",
       "      <td>1</td>\n",
       "      <td>13.24</td>\n",
       "      <td>2.59</td>\n",
       "      <td>2.87</td>\n",
       "      <td>21.0</td>\n",
       "      <td>118</td>\n",
       "      <td>2.80</td>\n",
       "      <td>2.69</td>\n",
       "      <td>0.39</td>\n",
       "      <td>1.82</td>\n",
       "      <td>4.32</td>\n",
       "      <td>1.04</td>\n",
       "      <td>2.93</td>\n",
       "      <td>735</td>\n",
       "    </tr>\n",
       "  </tbody>\n",
       "</table>\n",
       "</div>"
      ],
      "text/plain": [
       "   Cultivator  Alcohol  Malic_acid   Ash  Alcalinity_of_ash  Magnesium  \\\n",
       "0           1    14.23        1.71  2.43               15.6        127   \n",
       "1           1    13.20        1.78  2.14               11.2        100   \n",
       "2           1    13.16        2.36  2.67               18.6        101   \n",
       "3           1    14.37        1.95  2.50               16.8        113   \n",
       "4           1    13.24        2.59  2.87               21.0        118   \n",
       "\n",
       "   Total_phenols  Flavanoids  Nonflavanoid_phenols  Proanthocyanins  \\\n",
       "0           2.80        3.06                  0.28             2.29   \n",
       "1           2.65        2.76                  0.26             1.28   \n",
       "2           2.80        3.24                  0.30             2.81   \n",
       "3           3.85        3.49                  0.24             2.18   \n",
       "4           2.80        2.69                  0.39             1.82   \n",
       "\n",
       "   Color_intensity   Hue  OD280  Proline  \n",
       "0             5.64  1.04   3.92     1065  \n",
       "1             4.38  1.05   3.40     1050  \n",
       "2             5.68  1.03   3.17     1185  \n",
       "3             7.80  0.86   3.45     1480  \n",
       "4             4.32  1.04   2.93      735  "
      ]
     },
     "execution_count": 4,
     "metadata": {},
     "output_type": "execute_result"
    }
   ],
   "source": [
    "wine_data.head()"
   ]
  },
  {
   "cell_type": "code",
   "execution_count": 5,
   "metadata": {},
   "outputs": [
    {
     "data": {
      "text/html": [
       "<div>\n",
       "<style scoped>\n",
       "    .dataframe tbody tr th:only-of-type {\n",
       "        vertical-align: middle;\n",
       "    }\n",
       "\n",
       "    .dataframe tbody tr th {\n",
       "        vertical-align: top;\n",
       "    }\n",
       "\n",
       "    .dataframe thead th {\n",
       "        text-align: right;\n",
       "    }\n",
       "</style>\n",
       "<table border=\"1\" class=\"dataframe\">\n",
       "  <thead>\n",
       "    <tr style=\"text-align: right;\">\n",
       "      <th></th>\n",
       "      <th>Cultivator</th>\n",
       "      <th>Alcohol</th>\n",
       "      <th>Malic_acid</th>\n",
       "      <th>Ash</th>\n",
       "      <th>Alcalinity_of_ash</th>\n",
       "      <th>Magnesium</th>\n",
       "      <th>Total_phenols</th>\n",
       "      <th>Flavanoids</th>\n",
       "      <th>Nonflavanoid_phenols</th>\n",
       "      <th>Proanthocyanins</th>\n",
       "      <th>Color_intensity</th>\n",
       "      <th>Hue</th>\n",
       "      <th>OD280</th>\n",
       "      <th>Proline</th>\n",
       "    </tr>\n",
       "  </thead>\n",
       "  <tbody>\n",
       "    <tr>\n",
       "      <th>Cultivator</th>\n",
       "      <td>1.000000</td>\n",
       "      <td>-0.328222</td>\n",
       "      <td>0.437776</td>\n",
       "      <td>-0.049643</td>\n",
       "      <td>0.517859</td>\n",
       "      <td>-0.209179</td>\n",
       "      <td>-0.719163</td>\n",
       "      <td>-0.847498</td>\n",
       "      <td>0.489109</td>\n",
       "      <td>-0.499130</td>\n",
       "      <td>0.265668</td>\n",
       "      <td>-0.617369</td>\n",
       "      <td>-0.788230</td>\n",
       "      <td>-0.633717</td>\n",
       "    </tr>\n",
       "    <tr>\n",
       "      <th>Alcohol</th>\n",
       "      <td>-0.328222</td>\n",
       "      <td>1.000000</td>\n",
       "      <td>0.094397</td>\n",
       "      <td>0.211545</td>\n",
       "      <td>-0.310235</td>\n",
       "      <td>0.270798</td>\n",
       "      <td>0.289101</td>\n",
       "      <td>0.236815</td>\n",
       "      <td>-0.155929</td>\n",
       "      <td>0.136698</td>\n",
       "      <td>0.546364</td>\n",
       "      <td>-0.071747</td>\n",
       "      <td>0.072343</td>\n",
       "      <td>0.643720</td>\n",
       "    </tr>\n",
       "    <tr>\n",
       "      <th>Malic_acid</th>\n",
       "      <td>0.437776</td>\n",
       "      <td>0.094397</td>\n",
       "      <td>1.000000</td>\n",
       "      <td>0.164045</td>\n",
       "      <td>0.288500</td>\n",
       "      <td>-0.054575</td>\n",
       "      <td>-0.335167</td>\n",
       "      <td>-0.411007</td>\n",
       "      <td>0.292977</td>\n",
       "      <td>-0.220746</td>\n",
       "      <td>0.248985</td>\n",
       "      <td>-0.561296</td>\n",
       "      <td>-0.368710</td>\n",
       "      <td>-0.192011</td>\n",
       "    </tr>\n",
       "    <tr>\n",
       "      <th>Ash</th>\n",
       "      <td>-0.049643</td>\n",
       "      <td>0.211545</td>\n",
       "      <td>0.164045</td>\n",
       "      <td>1.000000</td>\n",
       "      <td>0.443367</td>\n",
       "      <td>0.286587</td>\n",
       "      <td>0.128980</td>\n",
       "      <td>0.115077</td>\n",
       "      <td>0.186230</td>\n",
       "      <td>0.009652</td>\n",
       "      <td>0.258887</td>\n",
       "      <td>-0.074667</td>\n",
       "      <td>0.003911</td>\n",
       "      <td>0.223626</td>\n",
       "    </tr>\n",
       "    <tr>\n",
       "      <th>Alcalinity_of_ash</th>\n",
       "      <td>0.517859</td>\n",
       "      <td>-0.310235</td>\n",
       "      <td>0.288500</td>\n",
       "      <td>0.443367</td>\n",
       "      <td>1.000000</td>\n",
       "      <td>-0.083333</td>\n",
       "      <td>-0.321113</td>\n",
       "      <td>-0.351370</td>\n",
       "      <td>0.361922</td>\n",
       "      <td>-0.197327</td>\n",
       "      <td>0.018732</td>\n",
       "      <td>-0.273955</td>\n",
       "      <td>-0.276769</td>\n",
       "      <td>-0.440597</td>\n",
       "    </tr>\n",
       "    <tr>\n",
       "      <th>Magnesium</th>\n",
       "      <td>-0.209179</td>\n",
       "      <td>0.270798</td>\n",
       "      <td>-0.054575</td>\n",
       "      <td>0.286587</td>\n",
       "      <td>-0.083333</td>\n",
       "      <td>1.000000</td>\n",
       "      <td>0.214401</td>\n",
       "      <td>0.195784</td>\n",
       "      <td>-0.256294</td>\n",
       "      <td>0.236441</td>\n",
       "      <td>0.199950</td>\n",
       "      <td>0.055398</td>\n",
       "      <td>0.066004</td>\n",
       "      <td>0.393351</td>\n",
       "    </tr>\n",
       "    <tr>\n",
       "      <th>Total_phenols</th>\n",
       "      <td>-0.719163</td>\n",
       "      <td>0.289101</td>\n",
       "      <td>-0.335167</td>\n",
       "      <td>0.128980</td>\n",
       "      <td>-0.321113</td>\n",
       "      <td>0.214401</td>\n",
       "      <td>1.000000</td>\n",
       "      <td>0.864564</td>\n",
       "      <td>-0.449935</td>\n",
       "      <td>0.612413</td>\n",
       "      <td>-0.055136</td>\n",
       "      <td>0.433681</td>\n",
       "      <td>0.699949</td>\n",
       "      <td>0.498115</td>\n",
       "    </tr>\n",
       "    <tr>\n",
       "      <th>Flavanoids</th>\n",
       "      <td>-0.847498</td>\n",
       "      <td>0.236815</td>\n",
       "      <td>-0.411007</td>\n",
       "      <td>0.115077</td>\n",
       "      <td>-0.351370</td>\n",
       "      <td>0.195784</td>\n",
       "      <td>0.864564</td>\n",
       "      <td>1.000000</td>\n",
       "      <td>-0.537900</td>\n",
       "      <td>0.652692</td>\n",
       "      <td>-0.172379</td>\n",
       "      <td>0.543479</td>\n",
       "      <td>0.787194</td>\n",
       "      <td>0.494193</td>\n",
       "    </tr>\n",
       "    <tr>\n",
       "      <th>Nonflavanoid_phenols</th>\n",
       "      <td>0.489109</td>\n",
       "      <td>-0.155929</td>\n",
       "      <td>0.292977</td>\n",
       "      <td>0.186230</td>\n",
       "      <td>0.361922</td>\n",
       "      <td>-0.256294</td>\n",
       "      <td>-0.449935</td>\n",
       "      <td>-0.537900</td>\n",
       "      <td>1.000000</td>\n",
       "      <td>-0.365845</td>\n",
       "      <td>0.139057</td>\n",
       "      <td>-0.262640</td>\n",
       "      <td>-0.503270</td>\n",
       "      <td>-0.311385</td>\n",
       "    </tr>\n",
       "    <tr>\n",
       "      <th>Proanthocyanins</th>\n",
       "      <td>-0.499130</td>\n",
       "      <td>0.136698</td>\n",
       "      <td>-0.220746</td>\n",
       "      <td>0.009652</td>\n",
       "      <td>-0.197327</td>\n",
       "      <td>0.236441</td>\n",
       "      <td>0.612413</td>\n",
       "      <td>0.652692</td>\n",
       "      <td>-0.365845</td>\n",
       "      <td>1.000000</td>\n",
       "      <td>-0.025250</td>\n",
       "      <td>0.295544</td>\n",
       "      <td>0.519067</td>\n",
       "      <td>0.330417</td>\n",
       "    </tr>\n",
       "    <tr>\n",
       "      <th>Color_intensity</th>\n",
       "      <td>0.265668</td>\n",
       "      <td>0.546364</td>\n",
       "      <td>0.248985</td>\n",
       "      <td>0.258887</td>\n",
       "      <td>0.018732</td>\n",
       "      <td>0.199950</td>\n",
       "      <td>-0.055136</td>\n",
       "      <td>-0.172379</td>\n",
       "      <td>0.139057</td>\n",
       "      <td>-0.025250</td>\n",
       "      <td>1.000000</td>\n",
       "      <td>-0.521813</td>\n",
       "      <td>-0.428815</td>\n",
       "      <td>0.316100</td>\n",
       "    </tr>\n",
       "    <tr>\n",
       "      <th>Hue</th>\n",
       "      <td>-0.617369</td>\n",
       "      <td>-0.071747</td>\n",
       "      <td>-0.561296</td>\n",
       "      <td>-0.074667</td>\n",
       "      <td>-0.273955</td>\n",
       "      <td>0.055398</td>\n",
       "      <td>0.433681</td>\n",
       "      <td>0.543479</td>\n",
       "      <td>-0.262640</td>\n",
       "      <td>0.295544</td>\n",
       "      <td>-0.521813</td>\n",
       "      <td>1.000000</td>\n",
       "      <td>0.565468</td>\n",
       "      <td>0.236183</td>\n",
       "    </tr>\n",
       "    <tr>\n",
       "      <th>OD280</th>\n",
       "      <td>-0.788230</td>\n",
       "      <td>0.072343</td>\n",
       "      <td>-0.368710</td>\n",
       "      <td>0.003911</td>\n",
       "      <td>-0.276769</td>\n",
       "      <td>0.066004</td>\n",
       "      <td>0.699949</td>\n",
       "      <td>0.787194</td>\n",
       "      <td>-0.503270</td>\n",
       "      <td>0.519067</td>\n",
       "      <td>-0.428815</td>\n",
       "      <td>0.565468</td>\n",
       "      <td>1.000000</td>\n",
       "      <td>0.312761</td>\n",
       "    </tr>\n",
       "    <tr>\n",
       "      <th>Proline</th>\n",
       "      <td>-0.633717</td>\n",
       "      <td>0.643720</td>\n",
       "      <td>-0.192011</td>\n",
       "      <td>0.223626</td>\n",
       "      <td>-0.440597</td>\n",
       "      <td>0.393351</td>\n",
       "      <td>0.498115</td>\n",
       "      <td>0.494193</td>\n",
       "      <td>-0.311385</td>\n",
       "      <td>0.330417</td>\n",
       "      <td>0.316100</td>\n",
       "      <td>0.236183</td>\n",
       "      <td>0.312761</td>\n",
       "      <td>1.000000</td>\n",
       "    </tr>\n",
       "  </tbody>\n",
       "</table>\n",
       "</div>"
      ],
      "text/plain": [
       "                      Cultivator   Alcohol  Malic_acid       Ash  \\\n",
       "Cultivator              1.000000 -0.328222    0.437776 -0.049643   \n",
       "Alcohol                -0.328222  1.000000    0.094397  0.211545   \n",
       "Malic_acid              0.437776  0.094397    1.000000  0.164045   \n",
       "Ash                    -0.049643  0.211545    0.164045  1.000000   \n",
       "Alcalinity_of_ash       0.517859 -0.310235    0.288500  0.443367   \n",
       "Magnesium              -0.209179  0.270798   -0.054575  0.286587   \n",
       "Total_phenols          -0.719163  0.289101   -0.335167  0.128980   \n",
       "Flavanoids             -0.847498  0.236815   -0.411007  0.115077   \n",
       "Nonflavanoid_phenols    0.489109 -0.155929    0.292977  0.186230   \n",
       "Proanthocyanins        -0.499130  0.136698   -0.220746  0.009652   \n",
       "Color_intensity         0.265668  0.546364    0.248985  0.258887   \n",
       "Hue                    -0.617369 -0.071747   -0.561296 -0.074667   \n",
       "OD280                  -0.788230  0.072343   -0.368710  0.003911   \n",
       "Proline                -0.633717  0.643720   -0.192011  0.223626   \n",
       "\n",
       "                      Alcalinity_of_ash  Magnesium  Total_phenols  Flavanoids  \\\n",
       "Cultivator                     0.517859  -0.209179      -0.719163   -0.847498   \n",
       "Alcohol                       -0.310235   0.270798       0.289101    0.236815   \n",
       "Malic_acid                     0.288500  -0.054575      -0.335167   -0.411007   \n",
       "Ash                            0.443367   0.286587       0.128980    0.115077   \n",
       "Alcalinity_of_ash              1.000000  -0.083333      -0.321113   -0.351370   \n",
       "Magnesium                     -0.083333   1.000000       0.214401    0.195784   \n",
       "Total_phenols                 -0.321113   0.214401       1.000000    0.864564   \n",
       "Flavanoids                    -0.351370   0.195784       0.864564    1.000000   \n",
       "Nonflavanoid_phenols           0.361922  -0.256294      -0.449935   -0.537900   \n",
       "Proanthocyanins               -0.197327   0.236441       0.612413    0.652692   \n",
       "Color_intensity                0.018732   0.199950      -0.055136   -0.172379   \n",
       "Hue                           -0.273955   0.055398       0.433681    0.543479   \n",
       "OD280                         -0.276769   0.066004       0.699949    0.787194   \n",
       "Proline                       -0.440597   0.393351       0.498115    0.494193   \n",
       "\n",
       "                      Nonflavanoid_phenols  Proanthocyanins  Color_intensity  \\\n",
       "Cultivator                        0.489109        -0.499130         0.265668   \n",
       "Alcohol                          -0.155929         0.136698         0.546364   \n",
       "Malic_acid                        0.292977        -0.220746         0.248985   \n",
       "Ash                               0.186230         0.009652         0.258887   \n",
       "Alcalinity_of_ash                 0.361922        -0.197327         0.018732   \n",
       "Magnesium                        -0.256294         0.236441         0.199950   \n",
       "Total_phenols                    -0.449935         0.612413        -0.055136   \n",
       "Flavanoids                       -0.537900         0.652692        -0.172379   \n",
       "Nonflavanoid_phenols              1.000000        -0.365845         0.139057   \n",
       "Proanthocyanins                  -0.365845         1.000000        -0.025250   \n",
       "Color_intensity                   0.139057        -0.025250         1.000000   \n",
       "Hue                              -0.262640         0.295544        -0.521813   \n",
       "OD280                            -0.503270         0.519067        -0.428815   \n",
       "Proline                          -0.311385         0.330417         0.316100   \n",
       "\n",
       "                           Hue     OD280   Proline  \n",
       "Cultivator           -0.617369 -0.788230 -0.633717  \n",
       "Alcohol              -0.071747  0.072343  0.643720  \n",
       "Malic_acid           -0.561296 -0.368710 -0.192011  \n",
       "Ash                  -0.074667  0.003911  0.223626  \n",
       "Alcalinity_of_ash    -0.273955 -0.276769 -0.440597  \n",
       "Magnesium             0.055398  0.066004  0.393351  \n",
       "Total_phenols         0.433681  0.699949  0.498115  \n",
       "Flavanoids            0.543479  0.787194  0.494193  \n",
       "Nonflavanoid_phenols -0.262640 -0.503270 -0.311385  \n",
       "Proanthocyanins       0.295544  0.519067  0.330417  \n",
       "Color_intensity      -0.521813 -0.428815  0.316100  \n",
       "Hue                   1.000000  0.565468  0.236183  \n",
       "OD280                 0.565468  1.000000  0.312761  \n",
       "Proline               0.236183  0.312761  1.000000  "
      ]
     },
     "execution_count": 5,
     "metadata": {},
     "output_type": "execute_result"
    }
   ],
   "source": [
    "wine_data.corr()"
   ]
  },
  {
   "cell_type": "code",
   "execution_count": 6,
   "metadata": {},
   "outputs": [],
   "source": [
    "wine_data1 = wine_data.drop('Cultivator', axis=1)"
   ]
  },
  {
   "cell_type": "code",
   "execution_count": 7,
   "metadata": {},
   "outputs": [
    {
     "data": {
      "text/html": [
       "<div>\n",
       "<style scoped>\n",
       "    .dataframe tbody tr th:only-of-type {\n",
       "        vertical-align: middle;\n",
       "    }\n",
       "\n",
       "    .dataframe tbody tr th {\n",
       "        vertical-align: top;\n",
       "    }\n",
       "\n",
       "    .dataframe thead th {\n",
       "        text-align: right;\n",
       "    }\n",
       "</style>\n",
       "<table border=\"1\" class=\"dataframe\">\n",
       "  <thead>\n",
       "    <tr style=\"text-align: right;\">\n",
       "      <th></th>\n",
       "      <th>Alcohol</th>\n",
       "      <th>Malic_acid</th>\n",
       "      <th>Ash</th>\n",
       "      <th>Alcalinity_of_ash</th>\n",
       "      <th>Magnesium</th>\n",
       "      <th>Total_phenols</th>\n",
       "      <th>Flavanoids</th>\n",
       "      <th>Nonflavanoid_phenols</th>\n",
       "      <th>Proanthocyanins</th>\n",
       "      <th>Color_intensity</th>\n",
       "      <th>Hue</th>\n",
       "      <th>OD280</th>\n",
       "      <th>Proline</th>\n",
       "    </tr>\n",
       "  </thead>\n",
       "  <tbody>\n",
       "    <tr>\n",
       "      <th>0</th>\n",
       "      <td>14.23</td>\n",
       "      <td>1.71</td>\n",
       "      <td>2.43</td>\n",
       "      <td>15.6</td>\n",
       "      <td>127</td>\n",
       "      <td>2.80</td>\n",
       "      <td>3.06</td>\n",
       "      <td>0.28</td>\n",
       "      <td>2.29</td>\n",
       "      <td>5.64</td>\n",
       "      <td>1.04</td>\n",
       "      <td>3.92</td>\n",
       "      <td>1065</td>\n",
       "    </tr>\n",
       "    <tr>\n",
       "      <th>1</th>\n",
       "      <td>13.20</td>\n",
       "      <td>1.78</td>\n",
       "      <td>2.14</td>\n",
       "      <td>11.2</td>\n",
       "      <td>100</td>\n",
       "      <td>2.65</td>\n",
       "      <td>2.76</td>\n",
       "      <td>0.26</td>\n",
       "      <td>1.28</td>\n",
       "      <td>4.38</td>\n",
       "      <td>1.05</td>\n",
       "      <td>3.40</td>\n",
       "      <td>1050</td>\n",
       "    </tr>\n",
       "    <tr>\n",
       "      <th>2</th>\n",
       "      <td>13.16</td>\n",
       "      <td>2.36</td>\n",
       "      <td>2.67</td>\n",
       "      <td>18.6</td>\n",
       "      <td>101</td>\n",
       "      <td>2.80</td>\n",
       "      <td>3.24</td>\n",
       "      <td>0.30</td>\n",
       "      <td>2.81</td>\n",
       "      <td>5.68</td>\n",
       "      <td>1.03</td>\n",
       "      <td>3.17</td>\n",
       "      <td>1185</td>\n",
       "    </tr>\n",
       "    <tr>\n",
       "      <th>3</th>\n",
       "      <td>14.37</td>\n",
       "      <td>1.95</td>\n",
       "      <td>2.50</td>\n",
       "      <td>16.8</td>\n",
       "      <td>113</td>\n",
       "      <td>3.85</td>\n",
       "      <td>3.49</td>\n",
       "      <td>0.24</td>\n",
       "      <td>2.18</td>\n",
       "      <td>7.80</td>\n",
       "      <td>0.86</td>\n",
       "      <td>3.45</td>\n",
       "      <td>1480</td>\n",
       "    </tr>\n",
       "    <tr>\n",
       "      <th>4</th>\n",
       "      <td>13.24</td>\n",
       "      <td>2.59</td>\n",
       "      <td>2.87</td>\n",
       "      <td>21.0</td>\n",
       "      <td>118</td>\n",
       "      <td>2.80</td>\n",
       "      <td>2.69</td>\n",
       "      <td>0.39</td>\n",
       "      <td>1.82</td>\n",
       "      <td>4.32</td>\n",
       "      <td>1.04</td>\n",
       "      <td>2.93</td>\n",
       "      <td>735</td>\n",
       "    </tr>\n",
       "  </tbody>\n",
       "</table>\n",
       "</div>"
      ],
      "text/plain": [
       "   Alcohol  Malic_acid   Ash  Alcalinity_of_ash  Magnesium  Total_phenols  \\\n",
       "0    14.23        1.71  2.43               15.6        127           2.80   \n",
       "1    13.20        1.78  2.14               11.2        100           2.65   \n",
       "2    13.16        2.36  2.67               18.6        101           2.80   \n",
       "3    14.37        1.95  2.50               16.8        113           3.85   \n",
       "4    13.24        2.59  2.87               21.0        118           2.80   \n",
       "\n",
       "   Flavanoids  Nonflavanoid_phenols  Proanthocyanins  Color_intensity   Hue  \\\n",
       "0        3.06                  0.28             2.29             5.64  1.04   \n",
       "1        2.76                  0.26             1.28             4.38  1.05   \n",
       "2        3.24                  0.30             2.81             5.68  1.03   \n",
       "3        3.49                  0.24             2.18             7.80  0.86   \n",
       "4        2.69                  0.39             1.82             4.32  1.04   \n",
       "\n",
       "   OD280  Proline  \n",
       "0   3.92     1065  \n",
       "1   3.40     1050  \n",
       "2   3.17     1185  \n",
       "3   3.45     1480  \n",
       "4   2.93      735  "
      ]
     },
     "execution_count": 7,
     "metadata": {},
     "output_type": "execute_result"
    }
   ],
   "source": [
    "wine_data1.head()"
   ]
  },
  {
   "cell_type": "code",
   "execution_count": 8,
   "metadata": {},
   "outputs": [],
   "source": [
    "from sklearn.preprocessing import StandardScaler"
   ]
  },
  {
   "cell_type": "code",
   "execution_count": 9,
   "metadata": {},
   "outputs": [],
   "source": [
    "ss = StandardScaler()"
   ]
  },
  {
   "cell_type": "code",
   "execution_count": 10,
   "metadata": {},
   "outputs": [],
   "source": [
    "wine_scaled = ss.fit_transform(wine_data1)"
   ]
  },
  {
   "cell_type": "code",
   "execution_count": 11,
   "metadata": {},
   "outputs": [],
   "source": [
    "wine_scaled = pd.DataFrame(wine_scaled, columns=wine_data1.columns)"
   ]
  },
  {
   "cell_type": "code",
   "execution_count": 12,
   "metadata": {},
   "outputs": [
    {
     "data": {
      "text/html": [
       "<div>\n",
       "<style scoped>\n",
       "    .dataframe tbody tr th:only-of-type {\n",
       "        vertical-align: middle;\n",
       "    }\n",
       "\n",
       "    .dataframe tbody tr th {\n",
       "        vertical-align: top;\n",
       "    }\n",
       "\n",
       "    .dataframe thead th {\n",
       "        text-align: right;\n",
       "    }\n",
       "</style>\n",
       "<table border=\"1\" class=\"dataframe\">\n",
       "  <thead>\n",
       "    <tr style=\"text-align: right;\">\n",
       "      <th></th>\n",
       "      <th>Alcohol</th>\n",
       "      <th>Malic_acid</th>\n",
       "      <th>Ash</th>\n",
       "      <th>Alcalinity_of_ash</th>\n",
       "      <th>Magnesium</th>\n",
       "      <th>Total_phenols</th>\n",
       "      <th>Flavanoids</th>\n",
       "      <th>Nonflavanoid_phenols</th>\n",
       "      <th>Proanthocyanins</th>\n",
       "      <th>Color_intensity</th>\n",
       "      <th>Hue</th>\n",
       "      <th>OD280</th>\n",
       "      <th>Proline</th>\n",
       "    </tr>\n",
       "  </thead>\n",
       "  <tbody>\n",
       "    <tr>\n",
       "      <th>0</th>\n",
       "      <td>1.518613</td>\n",
       "      <td>-0.562250</td>\n",
       "      <td>0.232053</td>\n",
       "      <td>-1.169593</td>\n",
       "      <td>1.913905</td>\n",
       "      <td>0.808997</td>\n",
       "      <td>1.034819</td>\n",
       "      <td>-0.659563</td>\n",
       "      <td>1.224884</td>\n",
       "      <td>0.251717</td>\n",
       "      <td>0.362177</td>\n",
       "      <td>1.847920</td>\n",
       "      <td>1.013009</td>\n",
       "    </tr>\n",
       "    <tr>\n",
       "      <th>1</th>\n",
       "      <td>0.246290</td>\n",
       "      <td>-0.499413</td>\n",
       "      <td>-0.827996</td>\n",
       "      <td>-2.490847</td>\n",
       "      <td>0.018145</td>\n",
       "      <td>0.568648</td>\n",
       "      <td>0.733629</td>\n",
       "      <td>-0.820719</td>\n",
       "      <td>-0.544721</td>\n",
       "      <td>-0.293321</td>\n",
       "      <td>0.406051</td>\n",
       "      <td>1.113449</td>\n",
       "      <td>0.965242</td>\n",
       "    </tr>\n",
       "    <tr>\n",
       "      <th>2</th>\n",
       "      <td>0.196879</td>\n",
       "      <td>0.021231</td>\n",
       "      <td>1.109334</td>\n",
       "      <td>-0.268738</td>\n",
       "      <td>0.088358</td>\n",
       "      <td>0.808997</td>\n",
       "      <td>1.215533</td>\n",
       "      <td>-0.498407</td>\n",
       "      <td>2.135968</td>\n",
       "      <td>0.269020</td>\n",
       "      <td>0.318304</td>\n",
       "      <td>0.788587</td>\n",
       "      <td>1.395148</td>\n",
       "    </tr>\n",
       "    <tr>\n",
       "      <th>3</th>\n",
       "      <td>1.691550</td>\n",
       "      <td>-0.346811</td>\n",
       "      <td>0.487926</td>\n",
       "      <td>-0.809251</td>\n",
       "      <td>0.930918</td>\n",
       "      <td>2.491446</td>\n",
       "      <td>1.466525</td>\n",
       "      <td>-0.981875</td>\n",
       "      <td>1.032155</td>\n",
       "      <td>1.186068</td>\n",
       "      <td>-0.427544</td>\n",
       "      <td>1.184071</td>\n",
       "      <td>2.334574</td>\n",
       "    </tr>\n",
       "    <tr>\n",
       "      <th>4</th>\n",
       "      <td>0.295700</td>\n",
       "      <td>0.227694</td>\n",
       "      <td>1.840403</td>\n",
       "      <td>0.451946</td>\n",
       "      <td>1.281985</td>\n",
       "      <td>0.808997</td>\n",
       "      <td>0.663351</td>\n",
       "      <td>0.226796</td>\n",
       "      <td>0.401404</td>\n",
       "      <td>-0.319276</td>\n",
       "      <td>0.362177</td>\n",
       "      <td>0.449601</td>\n",
       "      <td>-0.037874</td>\n",
       "    </tr>\n",
       "  </tbody>\n",
       "</table>\n",
       "</div>"
      ],
      "text/plain": [
       "    Alcohol  Malic_acid       Ash  Alcalinity_of_ash  Magnesium  \\\n",
       "0  1.518613   -0.562250  0.232053          -1.169593   1.913905   \n",
       "1  0.246290   -0.499413 -0.827996          -2.490847   0.018145   \n",
       "2  0.196879    0.021231  1.109334          -0.268738   0.088358   \n",
       "3  1.691550   -0.346811  0.487926          -0.809251   0.930918   \n",
       "4  0.295700    0.227694  1.840403           0.451946   1.281985   \n",
       "\n",
       "   Total_phenols  Flavanoids  Nonflavanoid_phenols  Proanthocyanins  \\\n",
       "0       0.808997    1.034819             -0.659563         1.224884   \n",
       "1       0.568648    0.733629             -0.820719        -0.544721   \n",
       "2       0.808997    1.215533             -0.498407         2.135968   \n",
       "3       2.491446    1.466525             -0.981875         1.032155   \n",
       "4       0.808997    0.663351              0.226796         0.401404   \n",
       "\n",
       "   Color_intensity       Hue     OD280   Proline  \n",
       "0         0.251717  0.362177  1.847920  1.013009  \n",
       "1        -0.293321  0.406051  1.113449  0.965242  \n",
       "2         0.269020  0.318304  0.788587  1.395148  \n",
       "3         1.186068 -0.427544  1.184071  2.334574  \n",
       "4        -0.319276  0.362177  0.449601 -0.037874  "
      ]
     },
     "execution_count": 12,
     "metadata": {},
     "output_type": "execute_result"
    }
   ],
   "source": [
    "wine_scaled.head()"
   ]
  },
  {
   "cell_type": "code",
   "execution_count": 13,
   "metadata": {},
   "outputs": [
    {
     "data": {
      "text/html": [
       "<div>\n",
       "<style scoped>\n",
       "    .dataframe tbody tr th:only-of-type {\n",
       "        vertical-align: middle;\n",
       "    }\n",
       "\n",
       "    .dataframe tbody tr th {\n",
       "        vertical-align: top;\n",
       "    }\n",
       "\n",
       "    .dataframe thead th {\n",
       "        text-align: right;\n",
       "    }\n",
       "</style>\n",
       "<table border=\"1\" class=\"dataframe\">\n",
       "  <thead>\n",
       "    <tr style=\"text-align: right;\">\n",
       "      <th></th>\n",
       "      <th>0</th>\n",
       "      <th>1</th>\n",
       "      <th>2</th>\n",
       "      <th>3</th>\n",
       "      <th>4</th>\n",
       "      <th>5</th>\n",
       "      <th>6</th>\n",
       "      <th>7</th>\n",
       "      <th>8</th>\n",
       "      <th>9</th>\n",
       "      <th>...</th>\n",
       "      <th>168</th>\n",
       "      <th>169</th>\n",
       "      <th>170</th>\n",
       "      <th>171</th>\n",
       "      <th>172</th>\n",
       "      <th>173</th>\n",
       "      <th>174</th>\n",
       "      <th>175</th>\n",
       "      <th>176</th>\n",
       "      <th>177</th>\n",
       "    </tr>\n",
       "  </thead>\n",
       "  <tbody>\n",
       "    <tr>\n",
       "      <th>Alcohol</th>\n",
       "      <td>1.518613</td>\n",
       "      <td>0.246290</td>\n",
       "      <td>0.196879</td>\n",
       "      <td>1.691550</td>\n",
       "      <td>0.295700</td>\n",
       "      <td>1.481555</td>\n",
       "      <td>1.716255</td>\n",
       "      <td>1.308617</td>\n",
       "      <td>2.259772</td>\n",
       "      <td>1.061565</td>\n",
       "      <td>...</td>\n",
       "      <td>0.715690</td>\n",
       "      <td>0.493343</td>\n",
       "      <td>-0.988975</td>\n",
       "      <td>-0.284874</td>\n",
       "      <td>1.432144</td>\n",
       "      <td>0.876275</td>\n",
       "      <td>0.493343</td>\n",
       "      <td>0.332758</td>\n",
       "      <td>0.209232</td>\n",
       "      <td>1.395086</td>\n",
       "    </tr>\n",
       "    <tr>\n",
       "      <th>Malic_acid</th>\n",
       "      <td>-0.562250</td>\n",
       "      <td>-0.499413</td>\n",
       "      <td>0.021231</td>\n",
       "      <td>-0.346811</td>\n",
       "      <td>0.227694</td>\n",
       "      <td>-0.517367</td>\n",
       "      <td>-0.418624</td>\n",
       "      <td>-0.167278</td>\n",
       "      <td>-0.625086</td>\n",
       "      <td>-0.885409</td>\n",
       "      <td>...</td>\n",
       "      <td>0.218717</td>\n",
       "      <td>2.031997</td>\n",
       "      <td>0.622666</td>\n",
       "      <td>0.048161</td>\n",
       "      <td>0.155881</td>\n",
       "      <td>2.974543</td>\n",
       "      <td>1.412609</td>\n",
       "      <td>1.744744</td>\n",
       "      <td>0.227694</td>\n",
       "      <td>1.583165</td>\n",
       "    </tr>\n",
       "    <tr>\n",
       "      <th>Ash</th>\n",
       "      <td>0.232053</td>\n",
       "      <td>-0.827996</td>\n",
       "      <td>1.109334</td>\n",
       "      <td>0.487926</td>\n",
       "      <td>1.840403</td>\n",
       "      <td>0.305159</td>\n",
       "      <td>0.305159</td>\n",
       "      <td>0.890014</td>\n",
       "      <td>-0.718336</td>\n",
       "      <td>-0.352802</td>\n",
       "      <td>...</td>\n",
       "      <td>1.182441</td>\n",
       "      <td>1.803849</td>\n",
       "      <td>-0.170035</td>\n",
       "      <td>-0.316249</td>\n",
       "      <td>0.414820</td>\n",
       "      <td>0.305159</td>\n",
       "      <td>0.414820</td>\n",
       "      <td>-0.389355</td>\n",
       "      <td>0.012732</td>\n",
       "      <td>1.365208</td>\n",
       "    </tr>\n",
       "    <tr>\n",
       "      <th>Alcalinity_of_ash</th>\n",
       "      <td>-1.169593</td>\n",
       "      <td>-2.490847</td>\n",
       "      <td>-0.268738</td>\n",
       "      <td>-0.809251</td>\n",
       "      <td>0.451946</td>\n",
       "      <td>-1.289707</td>\n",
       "      <td>-1.469878</td>\n",
       "      <td>-0.569023</td>\n",
       "      <td>-1.650049</td>\n",
       "      <td>-1.049479</td>\n",
       "      <td>...</td>\n",
       "      <td>1.502943</td>\n",
       "      <td>1.653086</td>\n",
       "      <td>-0.148624</td>\n",
       "      <td>0.001518</td>\n",
       "      <td>0.151661</td>\n",
       "      <td>0.301803</td>\n",
       "      <td>1.052516</td>\n",
       "      <td>0.151661</td>\n",
       "      <td>0.151661</td>\n",
       "      <td>1.502943</td>\n",
       "    </tr>\n",
       "    <tr>\n",
       "      <th>Magnesium</th>\n",
       "      <td>1.913905</td>\n",
       "      <td>0.018145</td>\n",
       "      <td>0.088358</td>\n",
       "      <td>0.930918</td>\n",
       "      <td>1.281985</td>\n",
       "      <td>0.860705</td>\n",
       "      <td>-0.262708</td>\n",
       "      <td>1.492625</td>\n",
       "      <td>-0.192495</td>\n",
       "      <td>-0.122282</td>\n",
       "      <td>...</td>\n",
       "      <td>0.369212</td>\n",
       "      <td>0.860705</td>\n",
       "      <td>-0.262708</td>\n",
       "      <td>-0.964842</td>\n",
       "      <td>-0.613775</td>\n",
       "      <td>-0.332922</td>\n",
       "      <td>0.158572</td>\n",
       "      <td>1.422412</td>\n",
       "      <td>1.422412</td>\n",
       "      <td>-0.262708</td>\n",
       "    </tr>\n",
       "    <tr>\n",
       "      <th>Total_phenols</th>\n",
       "      <td>0.808997</td>\n",
       "      <td>0.568648</td>\n",
       "      <td>0.808997</td>\n",
       "      <td>2.491446</td>\n",
       "      <td>0.808997</td>\n",
       "      <td>1.562093</td>\n",
       "      <td>0.328298</td>\n",
       "      <td>0.488531</td>\n",
       "      <td>0.808997</td>\n",
       "      <td>1.097417</td>\n",
       "      <td>...</td>\n",
       "      <td>-1.193917</td>\n",
       "      <td>-0.504914</td>\n",
       "      <td>-1.674617</td>\n",
       "      <td>-1.450290</td>\n",
       "      <td>-0.985614</td>\n",
       "      <td>-0.985614</td>\n",
       "      <td>-0.793334</td>\n",
       "      <td>-1.129824</td>\n",
       "      <td>-1.033684</td>\n",
       "      <td>-0.392751</td>\n",
       "    </tr>\n",
       "    <tr>\n",
       "      <th>Flavanoids</th>\n",
       "      <td>1.034819</td>\n",
       "      <td>0.733629</td>\n",
       "      <td>1.215533</td>\n",
       "      <td>1.466525</td>\n",
       "      <td>0.663351</td>\n",
       "      <td>1.366128</td>\n",
       "      <td>0.492677</td>\n",
       "      <td>0.482637</td>\n",
       "      <td>0.954502</td>\n",
       "      <td>1.125176</td>\n",
       "      <td>...</td>\n",
       "      <td>-1.193987</td>\n",
       "      <td>-1.073511</td>\n",
       "      <td>-1.545376</td>\n",
       "      <td>-1.525296</td>\n",
       "      <td>-1.334543</td>\n",
       "      <td>-1.424900</td>\n",
       "      <td>-1.284344</td>\n",
       "      <td>-1.344582</td>\n",
       "      <td>-1.354622</td>\n",
       "      <td>-1.274305</td>\n",
       "    </tr>\n",
       "    <tr>\n",
       "      <th>Nonflavanoid_phenols</th>\n",
       "      <td>-0.659563</td>\n",
       "      <td>-0.820719</td>\n",
       "      <td>-0.498407</td>\n",
       "      <td>-0.981875</td>\n",
       "      <td>0.226796</td>\n",
       "      <td>-0.176095</td>\n",
       "      <td>-0.498407</td>\n",
       "      <td>-0.417829</td>\n",
       "      <td>-0.578985</td>\n",
       "      <td>-1.143031</td>\n",
       "      <td>...</td>\n",
       "      <td>0.226796</td>\n",
       "      <td>-0.740141</td>\n",
       "      <td>0.307374</td>\n",
       "      <td>0.951998</td>\n",
       "      <td>0.629686</td>\n",
       "      <td>1.274310</td>\n",
       "      <td>0.549108</td>\n",
       "      <td>0.549108</td>\n",
       "      <td>1.354888</td>\n",
       "      <td>1.596623</td>\n",
       "    </tr>\n",
       "    <tr>\n",
       "      <th>Proanthocyanins</th>\n",
       "      <td>1.224884</td>\n",
       "      <td>-0.544721</td>\n",
       "      <td>2.135968</td>\n",
       "      <td>1.032155</td>\n",
       "      <td>0.401404</td>\n",
       "      <td>0.664217</td>\n",
       "      <td>0.681738</td>\n",
       "      <td>-0.597284</td>\n",
       "      <td>0.681738</td>\n",
       "      <td>0.453967</td>\n",
       "      <td>...</td>\n",
       "      <td>-0.089179</td>\n",
       "      <td>-0.842575</td>\n",
       "      <td>-1.508367</td>\n",
       "      <td>-1.666055</td>\n",
       "      <td>-0.614804</td>\n",
       "      <td>-0.930179</td>\n",
       "      <td>-0.316950</td>\n",
       "      <td>-0.422075</td>\n",
       "      <td>-0.229346</td>\n",
       "      <td>-0.422075</td>\n",
       "    </tr>\n",
       "    <tr>\n",
       "      <th>Color_intensity</th>\n",
       "      <td>0.251717</td>\n",
       "      <td>-0.293321</td>\n",
       "      <td>0.269020</td>\n",
       "      <td>1.186068</td>\n",
       "      <td>-0.319276</td>\n",
       "      <td>0.731870</td>\n",
       "      <td>0.083015</td>\n",
       "      <td>-0.003499</td>\n",
       "      <td>0.061386</td>\n",
       "      <td>0.935177</td>\n",
       "      <td>...</td>\n",
       "      <td>1.558078</td>\n",
       "      <td>1.488867</td>\n",
       "      <td>0.191157</td>\n",
       "      <td>2.094465</td>\n",
       "      <td>2.007951</td>\n",
       "      <td>1.142811</td>\n",
       "      <td>0.969783</td>\n",
       "      <td>2.224236</td>\n",
       "      <td>1.834923</td>\n",
       "      <td>1.791666</td>\n",
       "    </tr>\n",
       "    <tr>\n",
       "      <th>Hue</th>\n",
       "      <td>0.362177</td>\n",
       "      <td>0.406051</td>\n",
       "      <td>0.318304</td>\n",
       "      <td>-0.427544</td>\n",
       "      <td>0.362177</td>\n",
       "      <td>0.406051</td>\n",
       "      <td>0.274431</td>\n",
       "      <td>0.449924</td>\n",
       "      <td>0.537671</td>\n",
       "      <td>0.230557</td>\n",
       "      <td>...</td>\n",
       "      <td>-0.954024</td>\n",
       "      <td>-1.261138</td>\n",
       "      <td>-1.305011</td>\n",
       "      <td>-1.699872</td>\n",
       "      <td>-1.480505</td>\n",
       "      <td>-1.392758</td>\n",
       "      <td>-1.129518</td>\n",
       "      <td>-1.612125</td>\n",
       "      <td>-1.568252</td>\n",
       "      <td>-1.524378</td>\n",
       "    </tr>\n",
       "    <tr>\n",
       "      <th>OD280</th>\n",
       "      <td>1.847920</td>\n",
       "      <td>1.113449</td>\n",
       "      <td>0.788587</td>\n",
       "      <td>1.184071</td>\n",
       "      <td>0.449601</td>\n",
       "      <td>0.336606</td>\n",
       "      <td>1.367689</td>\n",
       "      <td>1.367689</td>\n",
       "      <td>0.336606</td>\n",
       "      <td>1.325316</td>\n",
       "      <td>...</td>\n",
       "      <td>-1.146459</td>\n",
       "      <td>-0.976966</td>\n",
       "      <td>-1.104086</td>\n",
       "      <td>-1.386574</td>\n",
       "      <td>-1.273579</td>\n",
       "      <td>-1.231206</td>\n",
       "      <td>-1.485445</td>\n",
       "      <td>-1.485445</td>\n",
       "      <td>-1.400699</td>\n",
       "      <td>-1.428948</td>\n",
       "    </tr>\n",
       "    <tr>\n",
       "      <th>Proline</th>\n",
       "      <td>1.013009</td>\n",
       "      <td>0.965242</td>\n",
       "      <td>1.395148</td>\n",
       "      <td>2.334574</td>\n",
       "      <td>-0.037874</td>\n",
       "      <td>2.239039</td>\n",
       "      <td>1.729520</td>\n",
       "      <td>1.745442</td>\n",
       "      <td>0.949319</td>\n",
       "      <td>0.949319</td>\n",
       "      <td>...</td>\n",
       "      <td>0.009893</td>\n",
       "      <td>-0.372246</td>\n",
       "      <td>-0.754385</td>\n",
       "      <td>-0.881765</td>\n",
       "      <td>-0.276711</td>\n",
       "      <td>-0.021952</td>\n",
       "      <td>0.009893</td>\n",
       "      <td>0.280575</td>\n",
       "      <td>0.296498</td>\n",
       "      <td>-0.595160</td>\n",
       "    </tr>\n",
       "  </tbody>\n",
       "</table>\n",
       "<p>13 rows × 178 columns</p>\n",
       "</div>"
      ],
      "text/plain": [
       "                           0         1         2         3         4    \\\n",
       "Alcohol               1.518613  0.246290  0.196879  1.691550  0.295700   \n",
       "Malic_acid           -0.562250 -0.499413  0.021231 -0.346811  0.227694   \n",
       "Ash                   0.232053 -0.827996  1.109334  0.487926  1.840403   \n",
       "Alcalinity_of_ash    -1.169593 -2.490847 -0.268738 -0.809251  0.451946   \n",
       "Magnesium             1.913905  0.018145  0.088358  0.930918  1.281985   \n",
       "Total_phenols         0.808997  0.568648  0.808997  2.491446  0.808997   \n",
       "Flavanoids            1.034819  0.733629  1.215533  1.466525  0.663351   \n",
       "Nonflavanoid_phenols -0.659563 -0.820719 -0.498407 -0.981875  0.226796   \n",
       "Proanthocyanins       1.224884 -0.544721  2.135968  1.032155  0.401404   \n",
       "Color_intensity       0.251717 -0.293321  0.269020  1.186068 -0.319276   \n",
       "Hue                   0.362177  0.406051  0.318304 -0.427544  0.362177   \n",
       "OD280                 1.847920  1.113449  0.788587  1.184071  0.449601   \n",
       "Proline               1.013009  0.965242  1.395148  2.334574 -0.037874   \n",
       "\n",
       "                           5         6         7         8         9    ...  \\\n",
       "Alcohol               1.481555  1.716255  1.308617  2.259772  1.061565  ...   \n",
       "Malic_acid           -0.517367 -0.418624 -0.167278 -0.625086 -0.885409  ...   \n",
       "Ash                   0.305159  0.305159  0.890014 -0.718336 -0.352802  ...   \n",
       "Alcalinity_of_ash    -1.289707 -1.469878 -0.569023 -1.650049 -1.049479  ...   \n",
       "Magnesium             0.860705 -0.262708  1.492625 -0.192495 -0.122282  ...   \n",
       "Total_phenols         1.562093  0.328298  0.488531  0.808997  1.097417  ...   \n",
       "Flavanoids            1.366128  0.492677  0.482637  0.954502  1.125176  ...   \n",
       "Nonflavanoid_phenols -0.176095 -0.498407 -0.417829 -0.578985 -1.143031  ...   \n",
       "Proanthocyanins       0.664217  0.681738 -0.597284  0.681738  0.453967  ...   \n",
       "Color_intensity       0.731870  0.083015 -0.003499  0.061386  0.935177  ...   \n",
       "Hue                   0.406051  0.274431  0.449924  0.537671  0.230557  ...   \n",
       "OD280                 0.336606  1.367689  1.367689  0.336606  1.325316  ...   \n",
       "Proline               2.239039  1.729520  1.745442  0.949319  0.949319  ...   \n",
       "\n",
       "                           168       169       170       171       172  \\\n",
       "Alcohol               0.715690  0.493343 -0.988975 -0.284874  1.432144   \n",
       "Malic_acid            0.218717  2.031997  0.622666  0.048161  0.155881   \n",
       "Ash                   1.182441  1.803849 -0.170035 -0.316249  0.414820   \n",
       "Alcalinity_of_ash     1.502943  1.653086 -0.148624  0.001518  0.151661   \n",
       "Magnesium             0.369212  0.860705 -0.262708 -0.964842 -0.613775   \n",
       "Total_phenols        -1.193917 -0.504914 -1.674617 -1.450290 -0.985614   \n",
       "Flavanoids           -1.193987 -1.073511 -1.545376 -1.525296 -1.334543   \n",
       "Nonflavanoid_phenols  0.226796 -0.740141  0.307374  0.951998  0.629686   \n",
       "Proanthocyanins      -0.089179 -0.842575 -1.508367 -1.666055 -0.614804   \n",
       "Color_intensity       1.558078  1.488867  0.191157  2.094465  2.007951   \n",
       "Hue                  -0.954024 -1.261138 -1.305011 -1.699872 -1.480505   \n",
       "OD280                -1.146459 -0.976966 -1.104086 -1.386574 -1.273579   \n",
       "Proline               0.009893 -0.372246 -0.754385 -0.881765 -0.276711   \n",
       "\n",
       "                           173       174       175       176       177  \n",
       "Alcohol               0.876275  0.493343  0.332758  0.209232  1.395086  \n",
       "Malic_acid            2.974543  1.412609  1.744744  0.227694  1.583165  \n",
       "Ash                   0.305159  0.414820 -0.389355  0.012732  1.365208  \n",
       "Alcalinity_of_ash     0.301803  1.052516  0.151661  0.151661  1.502943  \n",
       "Magnesium            -0.332922  0.158572  1.422412  1.422412 -0.262708  \n",
       "Total_phenols        -0.985614 -0.793334 -1.129824 -1.033684 -0.392751  \n",
       "Flavanoids           -1.424900 -1.284344 -1.344582 -1.354622 -1.274305  \n",
       "Nonflavanoid_phenols  1.274310  0.549108  0.549108  1.354888  1.596623  \n",
       "Proanthocyanins      -0.930179 -0.316950 -0.422075 -0.229346 -0.422075  \n",
       "Color_intensity       1.142811  0.969783  2.224236  1.834923  1.791666  \n",
       "Hue                  -1.392758 -1.129518 -1.612125 -1.568252 -1.524378  \n",
       "OD280                -1.231206 -1.485445 -1.485445 -1.400699 -1.428948  \n",
       "Proline              -0.021952  0.009893  0.280575  0.296498 -0.595160  \n",
       "\n",
       "[13 rows x 178 columns]"
      ]
     },
     "execution_count": 13,
     "metadata": {},
     "output_type": "execute_result"
    }
   ],
   "source": [
    "wine_scaled.T"
   ]
  },
  {
   "cell_type": "code",
   "execution_count": 14,
   "metadata": {},
   "outputs": [
    {
     "data": {
      "text/plain": [
       "31684"
      ]
     },
     "execution_count": 14,
     "metadata": {},
     "output_type": "execute_result"
    }
   ],
   "source": [
    "np.cov(wine_scaled).size"
   ]
  },
  {
   "cell_type": "code",
   "execution_count": 15,
   "metadata": {},
   "outputs": [],
   "source": [
    "cov_matrix = np.cov(wine_scaled.T)"
   ]
  },
  {
   "cell_type": "code",
   "execution_count": 16,
   "metadata": {},
   "outputs": [
    {
     "data": {
      "text/plain": [
       "array([[ 1.00564972,  0.09493026,  0.21273976, -0.31198788,  0.27232816,\n",
       "         0.29073446,  0.23815287, -0.15681042,  0.13747022,  0.549451  ,\n",
       "        -0.07215255,  0.07275191,  0.64735687],\n",
       "       [ 0.09493026,  1.00564972,  0.16497228,  0.29013035, -0.05488343,\n",
       "        -0.3370606 , -0.41332866,  0.29463237, -0.22199334,  0.25039204,\n",
       "        -0.56446685, -0.37079354, -0.19309537],\n",
       "       [ 0.21273976,  0.16497228,  1.00564972,  0.44587209,  0.28820583,\n",
       "         0.12970824,  0.11572743,  0.1872826 ,  0.00970647,  0.2603499 ,\n",
       "        -0.07508874,  0.00393333,  0.22488969],\n",
       "       [-0.31198788,  0.29013035,  0.44587209,  1.00564972, -0.0838039 ,\n",
       "        -0.32292752, -0.353355  ,  0.36396647, -0.19844168,  0.01883781,\n",
       "        -0.27550299, -0.27833221, -0.44308618],\n",
       "       [ 0.27232816, -0.05488343,  0.28820583, -0.0838039 ,  1.00564972,\n",
       "         0.21561254,  0.19688989, -0.25774204,  0.23777643,  0.20107967,\n",
       "         0.05571118,  0.06637684,  0.39557317],\n",
       "       [ 0.29073446, -0.3370606 ,  0.12970824, -0.32292752,  0.21561254,\n",
       "         1.00564972,  0.86944804, -0.45247731,  0.61587304, -0.05544792,\n",
       "         0.43613151,  0.70390388,  0.50092909],\n",
       "       [ 0.23815287, -0.41332866,  0.11572743, -0.353355  ,  0.19688989,\n",
       "         0.86944804,  1.00564972, -0.54093859,  0.65637929, -0.17335329,\n",
       "         0.54654907,  0.79164133,  0.49698518],\n",
       "       [-0.15681042,  0.29463237,  0.1872826 ,  0.36396647, -0.25774204,\n",
       "        -0.45247731, -0.54093859,  1.00564972, -0.36791202,  0.13984265,\n",
       "        -0.26412347, -0.50611293, -0.31314443],\n",
       "       [ 0.13747022, -0.22199334,  0.00970647, -0.19844168,  0.23777643,\n",
       "         0.61587304,  0.65637929, -0.36791202,  1.00564972, -0.02539259,\n",
       "         0.29721399,  0.52199968,  0.33228346],\n",
       "       [ 0.549451  ,  0.25039204,  0.2603499 ,  0.01883781,  0.20107967,\n",
       "        -0.05544792, -0.17335329,  0.13984265, -0.02539259,  1.00564972,\n",
       "        -0.52476129, -0.43123763,  0.31788599],\n",
       "       [-0.07215255, -0.56446685, -0.07508874, -0.27550299,  0.05571118,\n",
       "         0.43613151,  0.54654907, -0.26412347,  0.29721399, -0.52476129,\n",
       "         1.00564972,  0.56866303,  0.23751782],\n",
       "       [ 0.07275191, -0.37079354,  0.00393333, -0.27833221,  0.06637684,\n",
       "         0.70390388,  0.79164133, -0.50611293,  0.52199968, -0.43123763,\n",
       "         0.56866303,  1.00564972,  0.31452809],\n",
       "       [ 0.64735687, -0.19309537,  0.22488969, -0.44308618,  0.39557317,\n",
       "         0.50092909,  0.49698518, -0.31314443,  0.33228346,  0.31788599,\n",
       "         0.23751782,  0.31452809,  1.00564972]])"
      ]
     },
     "execution_count": 16,
     "metadata": {},
     "output_type": "execute_result"
    }
   ],
   "source": [
    "cov_matrix"
   ]
  },
  {
   "cell_type": "code",
   "execution_count": 17,
   "metadata": {},
   "outputs": [],
   "source": [
    "eig_vals, eig_vecs = np.linalg.eig(cov_matrix)"
   ]
  },
  {
   "cell_type": "markdown",
   "metadata": {},
   "source": [
    "# eigenvalues and right eigenvectors"
   ]
  },
  {
   "cell_type": "code",
   "execution_count": 18,
   "metadata": {},
   "outputs": [
    {
     "name": "stdout",
     "output_type": "stream",
     "text": [
      "['Alcohol', 'Malic_acid', 'Ash', 'Alcalinity_of_ash', 'Magnesium', 'Total_phenols', 'Flavanoids', 'Nonflavanoid_phenols', 'Proanthocyanins', 'Color_intensity', 'Hue', 'OD280', 'Proline']\n"
     ]
    },
    {
     "data": {
      "text/plain": [
       "array([[-0.1443294 ,  0.48365155,  0.20738262, -0.0178563 , -0.26566365,\n",
       "         0.21353865,  0.05639636, -0.01496997,  0.39613926, -0.26628645,\n",
       "        -0.50861912, -0.22591696,  0.21160473],\n",
       "       [ 0.24518758,  0.22493093, -0.08901289,  0.53689028,  0.03521363,\n",
       "         0.53681385, -0.42052391, -0.02596375,  0.06582674,  0.12169604,\n",
       "         0.07528304,  0.07648554, -0.30907994],\n",
       "       [ 0.00205106,  0.31606881, -0.6262239 , -0.21417556, -0.14302547,\n",
       "         0.15447466,  0.14917061,  0.14121803, -0.17026002, -0.04962237,\n",
       "         0.30769445, -0.49869142, -0.02712539],\n",
       "       [ 0.23932041, -0.0105905 , -0.61208035,  0.06085941,  0.06610294,\n",
       "        -0.10082451,  0.28696914, -0.09168285,  0.42797018, -0.05574287,\n",
       "        -0.20044931,  0.47931378,  0.05279942],\n",
       "       [-0.14199204,  0.299634  , -0.13075693, -0.35179658,  0.72704851,\n",
       "         0.03814394, -0.3228833 , -0.05677422, -0.15636143,  0.06222011,\n",
       "        -0.27140257,  0.07128891,  0.06787022],\n",
       "       [-0.39466085,  0.06503951, -0.14617896,  0.19806835, -0.14931841,\n",
       "        -0.0841223 ,  0.02792498,  0.46390791, -0.40593409, -0.30388245,\n",
       "        -0.28603452,  0.30434119, -0.32013135],\n",
       "       [-0.4229343 , -0.00335981, -0.1506819 ,  0.15229479, -0.10902584,\n",
       "        -0.01892002,  0.06068521, -0.83225706, -0.18724536, -0.04289883,\n",
       "        -0.04957849, -0.02569409, -0.16315051],\n",
       "       [ 0.2985331 ,  0.02877949, -0.17036816, -0.20330102, -0.50070298,\n",
       "        -0.25859401, -0.59544729, -0.11403985, -0.23328465,  0.04235219,\n",
       "        -0.19550132,  0.11689586,  0.21553507],\n",
       "       [-0.31342949,  0.03930172, -0.14945431,  0.39905653,  0.13685982,\n",
       "        -0.53379539, -0.37213935,  0.11691707,  0.36822675, -0.09555303,\n",
       "         0.20914487, -0.23736257,  0.1341839 ],\n",
       "       [ 0.0886167 ,  0.52999567,  0.13730621,  0.06592568, -0.07643678,\n",
       "        -0.41864414,  0.22771214,  0.0119928 , -0.03379692,  0.60422163,\n",
       "        -0.05621752,  0.0318388 , -0.29077518],\n",
       "       [-0.29671456, -0.27923515, -0.08522192, -0.42777141, -0.17361452,\n",
       "         0.10598274, -0.23207564,  0.08988884,  0.43662362,  0.259214  ,\n",
       "        -0.08582839, -0.04821201, -0.52239889],\n",
       "       [-0.37616741, -0.16449619, -0.16600459,  0.18412074, -0.10116099,\n",
       "         0.26585107,  0.0447637 ,  0.15671813, -0.07810789,  0.60095872,\n",
       "        -0.1372269 ,  0.0464233 ,  0.52370587],\n",
       "       [-0.28675223,  0.36490283,  0.12674592, -0.23207086, -0.1578688 ,\n",
       "         0.11972557, -0.0768045 , -0.01444734,  0.12002267, -0.07940162,\n",
       "         0.57578611,  0.53926983,  0.162116  ]])"
      ]
     },
     "execution_count": 18,
     "metadata": {},
     "output_type": "execute_result"
    }
   ],
   "source": [
    "# vectors are column wise\n",
    "print(list(wine_scaled))\n",
    "eig_vecs"
   ]
  },
  {
   "cell_type": "code",
   "execution_count": 19,
   "metadata": {},
   "outputs": [
    {
     "data": {
      "text/plain": [
       "array([4.73243698, 2.51108093, 1.45424187, 0.92416587, 0.85804868,\n",
       "       0.64528221, 0.55414147, 0.10396199, 0.35046627, 0.16972374,\n",
       "       0.29051203, 0.22706428, 0.25232001])"
      ]
     },
     "execution_count": 19,
     "metadata": {},
     "output_type": "execute_result"
    }
   ],
   "source": [
    "# magnitude of vectors\n",
    "eig_vals"
   ]
  },
  {
   "cell_type": "code",
   "execution_count": 20,
   "metadata": {},
   "outputs": [],
   "source": [
    "tot = sum(eig_vals)"
   ]
  },
  {
   "cell_type": "code",
   "execution_count": 21,
   "metadata": {},
   "outputs": [
    {
     "data": {
      "text/plain": [
       "13.073446327683618"
      ]
     },
     "execution_count": 21,
     "metadata": {},
     "output_type": "execute_result"
    }
   ],
   "source": [
    "tot"
   ]
  },
  {
   "cell_type": "code",
   "execution_count": 22,
   "metadata": {},
   "outputs": [],
   "source": [
    "# norminized percintile\n",
    "var_exp = [(i/tot)*100 for i in sorted(eig_vals, reverse=True)]"
   ]
  },
  {
   "cell_type": "code",
   "execution_count": 23,
   "metadata": {},
   "outputs": [
    {
     "data": {
      "text/plain": [
       "[36.19884809992635,\n",
       " 19.207490257008924,\n",
       " 11.123630536249998,\n",
       " 7.069030182714033,\n",
       " 6.563293679648598,\n",
       " 4.935823319222561,\n",
       " 4.238679322623328,\n",
       " 2.6807489483788642,\n",
       " 2.222153404789708,\n",
       " 1.9300190939440798,\n",
       " 1.7368356899899147,\n",
       " 1.2982325756042157,\n",
       " 0.7952148898994494]"
      ]
     },
     "execution_count": 23,
     "metadata": {},
     "output_type": "execute_result"
    }
   ],
   "source": [
    "# variance holde in data set in percentage\n",
    "var_exp"
   ]
  },
  {
   "cell_type": "code",
   "execution_count": 24,
   "metadata": {},
   "outputs": [],
   "source": [
    "cum_var_exp = np.cumsum(var_exp)"
   ]
  },
  {
   "cell_type": "code",
   "execution_count": 25,
   "metadata": {},
   "outputs": [
    {
     "data": {
      "text/plain": [
       "array([ 36.1988481 ,  55.40633836,  66.52996889,  73.59899908,\n",
       "        80.16229276,  85.09811607,  89.3367954 ,  92.01754435,\n",
       "        94.23969775,  96.16971684,  97.90655253,  99.20478511,\n",
       "       100.        ])"
      ]
     },
     "execution_count": 25,
     "metadata": {},
     "output_type": "execute_result"
    }
   ],
   "source": [
    "# cumvariance holde in data set in percentage\n",
    "cum_var_exp"
   ]
  },
  {
   "cell_type": "code",
   "execution_count": 26,
   "metadata": {},
   "outputs": [
    {
     "data": {
      "text/plain": [
       "array([4.73243698, 2.51108093, 1.45424187, 0.92416587, 0.85804868,\n",
       "       0.64528221, 0.55414147, 0.10396199, 0.35046627, 0.16972374,\n",
       "       0.29051203, 0.22706428, 0.25232001])"
      ]
     },
     "execution_count": 26,
     "metadata": {},
     "output_type": "execute_result"
    }
   ],
   "source": [
    "# magnitude of vectors\n",
    "eig_vals"
   ]
  },
  {
   "cell_type": "code",
   "execution_count": 27,
   "metadata": {},
   "outputs": [],
   "source": [
    "eig_pair = [(eig_vals[index], eig_vecs[:, index]) for index in range(len(eig_vals))]"
   ]
  },
  {
   "cell_type": "code",
   "execution_count": 28,
   "metadata": {},
   "outputs": [
    {
     "data": {
      "text/plain": [
       "[(4.732436977583593,\n",
       "  array([-0.1443294 ,  0.24518758,  0.00205106,  0.23932041, -0.14199204,\n",
       "         -0.39466085, -0.4229343 ,  0.2985331 , -0.31342949,  0.0886167 ,\n",
       "         -0.29671456, -0.37616741, -0.28675223])),\n",
       " (2.511080929645122,\n",
       "  array([ 0.48365155,  0.22493093,  0.31606881, -0.0105905 ,  0.299634  ,\n",
       "          0.06503951, -0.00335981,  0.02877949,  0.03930172,  0.52999567,\n",
       "         -0.27923515, -0.16449619,  0.36490283])),\n",
       " (1.4542418678464688,\n",
       "  array([ 0.20738262, -0.08901289, -0.6262239 , -0.61208035, -0.13075693,\n",
       "         -0.14617896, -0.1506819 , -0.17036816, -0.14945431,  0.13730621,\n",
       "         -0.08522192, -0.16600459,  0.12674592])),\n",
       " (0.9241658668248742,\n",
       "  array([-0.0178563 ,  0.53689028, -0.21417556,  0.06085941, -0.35179658,\n",
       "          0.19806835,  0.15229479, -0.20330102,  0.39905653,  0.06592568,\n",
       "         -0.42777141,  0.18412074, -0.23207086])),\n",
       " (0.8580486765371106,\n",
       "  array([-0.26566365,  0.03521363, -0.14302547,  0.06610294,  0.72704851,\n",
       "         -0.14931841, -0.10902584, -0.50070298,  0.13685982, -0.07643678,\n",
       "         -0.17361452, -0.10116099, -0.1578688 ])),\n",
       " (0.6452822124678536,\n",
       "  array([ 0.21353865,  0.53681385,  0.15447466, -0.10082451,  0.03814394,\n",
       "         -0.0841223 , -0.01892002, -0.25859401, -0.53379539, -0.41864414,\n",
       "          0.10598274,  0.26585107,  0.11972557])),\n",
       " (0.5541414662457844,\n",
       "  array([ 0.05639636, -0.42052391,  0.14917061,  0.28696914, -0.3228833 ,\n",
       "          0.02792498,  0.06068521, -0.59544729, -0.37213935,  0.22771214,\n",
       "         -0.23207564,  0.0447637 , -0.0768045 ])),\n",
       " (0.1039619918207529,\n",
       "  array([-0.01496997, -0.02596375,  0.14121803, -0.09168285, -0.05677422,\n",
       "          0.46390791, -0.83225706, -0.11403985,  0.11691707,  0.0119928 ,\n",
       "          0.08988884,  0.15671813, -0.01444734])),\n",
       " (0.3504662749462538,\n",
       "  array([ 0.39613926,  0.06582674, -0.17026002,  0.42797018, -0.15636143,\n",
       "         -0.40593409, -0.18724536, -0.23328465,  0.36822675, -0.03379692,\n",
       "          0.43662362, -0.07810789,  0.12002267])),\n",
       " (0.16972373898012177,\n",
       "  array([-0.26628645,  0.12169604, -0.04962237, -0.05574287,  0.06222011,\n",
       "         -0.30388245, -0.04289883,  0.04235219, -0.09555303,  0.60422163,\n",
       "          0.259214  ,  0.60095872, -0.07940162])),\n",
       " (0.2905120326939766,\n",
       "  array([-0.50861912,  0.07528304,  0.30769445, -0.20044931, -0.27140257,\n",
       "         -0.28603452, -0.04957849, -0.19550132,  0.20914487, -0.05621752,\n",
       "         -0.08582839, -0.1372269 ,  0.57578611])),\n",
       " (0.22706428173088491,\n",
       "  array([-0.22591696,  0.07648554, -0.49869142,  0.47931378,  0.07128891,\n",
       "          0.30434119, -0.02569409,  0.11689586, -0.23736257,  0.0318388 ,\n",
       "         -0.04821201,  0.0464233 ,  0.53926983])),\n",
       " (0.2523200103608249,\n",
       "  array([ 0.21160473, -0.30907994, -0.02712539,  0.05279942,  0.06787022,\n",
       "         -0.32013135, -0.16315051,  0.21553507,  0.1341839 , -0.29077518,\n",
       "         -0.52239889,  0.52370587,  0.162116  ]))]"
      ]
     },
     "execution_count": 28,
     "metadata": {},
     "output_type": "execute_result"
    }
   ],
   "source": [
    "eig_pair"
   ]
  },
  {
   "cell_type": "code",
   "execution_count": 29,
   "metadata": {},
   "outputs": [],
   "source": [
    "# eig_pair.sort(reverse=True)\n",
    "eig_pair.sort()\n",
    "eig_pair.reverse()"
   ]
  },
  {
   "cell_type": "code",
   "execution_count": 30,
   "metadata": {},
   "outputs": [
    {
     "data": {
      "text/plain": [
       "[(4.732436977583593,\n",
       "  array([-0.1443294 ,  0.24518758,  0.00205106,  0.23932041, -0.14199204,\n",
       "         -0.39466085, -0.4229343 ,  0.2985331 , -0.31342949,  0.0886167 ,\n",
       "         -0.29671456, -0.37616741, -0.28675223])),\n",
       " (2.511080929645122,\n",
       "  array([ 0.48365155,  0.22493093,  0.31606881, -0.0105905 ,  0.299634  ,\n",
       "          0.06503951, -0.00335981,  0.02877949,  0.03930172,  0.52999567,\n",
       "         -0.27923515, -0.16449619,  0.36490283])),\n",
       " (1.4542418678464688,\n",
       "  array([ 0.20738262, -0.08901289, -0.6262239 , -0.61208035, -0.13075693,\n",
       "         -0.14617896, -0.1506819 , -0.17036816, -0.14945431,  0.13730621,\n",
       "         -0.08522192, -0.16600459,  0.12674592])),\n",
       " (0.9241658668248742,\n",
       "  array([-0.0178563 ,  0.53689028, -0.21417556,  0.06085941, -0.35179658,\n",
       "          0.19806835,  0.15229479, -0.20330102,  0.39905653,  0.06592568,\n",
       "         -0.42777141,  0.18412074, -0.23207086])),\n",
       " (0.8580486765371106,\n",
       "  array([-0.26566365,  0.03521363, -0.14302547,  0.06610294,  0.72704851,\n",
       "         -0.14931841, -0.10902584, -0.50070298,  0.13685982, -0.07643678,\n",
       "         -0.17361452, -0.10116099, -0.1578688 ])),\n",
       " (0.6452822124678536,\n",
       "  array([ 0.21353865,  0.53681385,  0.15447466, -0.10082451,  0.03814394,\n",
       "         -0.0841223 , -0.01892002, -0.25859401, -0.53379539, -0.41864414,\n",
       "          0.10598274,  0.26585107,  0.11972557])),\n",
       " (0.5541414662457844,\n",
       "  array([ 0.05639636, -0.42052391,  0.14917061,  0.28696914, -0.3228833 ,\n",
       "          0.02792498,  0.06068521, -0.59544729, -0.37213935,  0.22771214,\n",
       "         -0.23207564,  0.0447637 , -0.0768045 ])),\n",
       " (0.3504662749462538,\n",
       "  array([ 0.39613926,  0.06582674, -0.17026002,  0.42797018, -0.15636143,\n",
       "         -0.40593409, -0.18724536, -0.23328465,  0.36822675, -0.03379692,\n",
       "          0.43662362, -0.07810789,  0.12002267])),\n",
       " (0.2905120326939766,\n",
       "  array([-0.50861912,  0.07528304,  0.30769445, -0.20044931, -0.27140257,\n",
       "         -0.28603452, -0.04957849, -0.19550132,  0.20914487, -0.05621752,\n",
       "         -0.08582839, -0.1372269 ,  0.57578611])),\n",
       " (0.2523200103608249,\n",
       "  array([ 0.21160473, -0.30907994, -0.02712539,  0.05279942,  0.06787022,\n",
       "         -0.32013135, -0.16315051,  0.21553507,  0.1341839 , -0.29077518,\n",
       "         -0.52239889,  0.52370587,  0.162116  ])),\n",
       " (0.22706428173088491,\n",
       "  array([-0.22591696,  0.07648554, -0.49869142,  0.47931378,  0.07128891,\n",
       "          0.30434119, -0.02569409,  0.11689586, -0.23736257,  0.0318388 ,\n",
       "         -0.04821201,  0.0464233 ,  0.53926983])),\n",
       " (0.16972373898012177,\n",
       "  array([-0.26628645,  0.12169604, -0.04962237, -0.05574287,  0.06222011,\n",
       "         -0.30388245, -0.04289883,  0.04235219, -0.09555303,  0.60422163,\n",
       "          0.259214  ,  0.60095872, -0.07940162])),\n",
       " (0.1039619918207529,\n",
       "  array([-0.01496997, -0.02596375,  0.14121803, -0.09168285, -0.05677422,\n",
       "          0.46390791, -0.83225706, -0.11403985,  0.11691707,  0.0119928 ,\n",
       "          0.08988884,  0.15671813, -0.01444734]))]"
      ]
     },
     "execution_count": 30,
     "metadata": {},
     "output_type": "execute_result"
    }
   ],
   "source": [
    "eig_pair"
   ]
  },
  {
   "cell_type": "code",
   "execution_count": 31,
   "metadata": {},
   "outputs": [],
   "source": [
    "# final value after sorted\n",
    "sorted_eig_values = [eig_pair[index][0] for index in range(len(eig_vals))]"
   ]
  },
  {
   "cell_type": "code",
   "execution_count": 32,
   "metadata": {},
   "outputs": [
    {
     "data": {
      "text/plain": [
       "[4.732436977583593,\n",
       " 2.511080929645122,\n",
       " 1.4542418678464688,\n",
       " 0.9241658668248742,\n",
       " 0.8580486765371106,\n",
       " 0.6452822124678536,\n",
       " 0.5541414662457844,\n",
       " 0.3504662749462538,\n",
       " 0.2905120326939766,\n",
       " 0.2523200103608249,\n",
       " 0.22706428173088491,\n",
       " 0.16972373898012177,\n",
       " 0.1039619918207529]"
      ]
     },
     "execution_count": 32,
     "metadata": {},
     "output_type": "execute_result"
    }
   ],
   "source": [
    "sorted_eig_values"
   ]
  },
  {
   "cell_type": "code",
   "execution_count": 33,
   "metadata": {},
   "outputs": [],
   "source": [
    "sorted_eig_vectors = [eig_pair[index][1] for index in range(len(eig_vals))]"
   ]
  },
  {
   "cell_type": "code",
   "execution_count": 34,
   "metadata": {},
   "outputs": [
    {
     "data": {
      "text/plain": [
       "[array([-0.1443294 ,  0.24518758,  0.00205106,  0.23932041, -0.14199204,\n",
       "        -0.39466085, -0.4229343 ,  0.2985331 , -0.31342949,  0.0886167 ,\n",
       "        -0.29671456, -0.37616741, -0.28675223]),\n",
       " array([ 0.48365155,  0.22493093,  0.31606881, -0.0105905 ,  0.299634  ,\n",
       "         0.06503951, -0.00335981,  0.02877949,  0.03930172,  0.52999567,\n",
       "        -0.27923515, -0.16449619,  0.36490283]),\n",
       " array([ 0.20738262, -0.08901289, -0.6262239 , -0.61208035, -0.13075693,\n",
       "        -0.14617896, -0.1506819 , -0.17036816, -0.14945431,  0.13730621,\n",
       "        -0.08522192, -0.16600459,  0.12674592]),\n",
       " array([-0.0178563 ,  0.53689028, -0.21417556,  0.06085941, -0.35179658,\n",
       "         0.19806835,  0.15229479, -0.20330102,  0.39905653,  0.06592568,\n",
       "        -0.42777141,  0.18412074, -0.23207086]),\n",
       " array([-0.26566365,  0.03521363, -0.14302547,  0.06610294,  0.72704851,\n",
       "        -0.14931841, -0.10902584, -0.50070298,  0.13685982, -0.07643678,\n",
       "        -0.17361452, -0.10116099, -0.1578688 ]),\n",
       " array([ 0.21353865,  0.53681385,  0.15447466, -0.10082451,  0.03814394,\n",
       "        -0.0841223 , -0.01892002, -0.25859401, -0.53379539, -0.41864414,\n",
       "         0.10598274,  0.26585107,  0.11972557]),\n",
       " array([ 0.05639636, -0.42052391,  0.14917061,  0.28696914, -0.3228833 ,\n",
       "         0.02792498,  0.06068521, -0.59544729, -0.37213935,  0.22771214,\n",
       "        -0.23207564,  0.0447637 , -0.0768045 ]),\n",
       " array([ 0.39613926,  0.06582674, -0.17026002,  0.42797018, -0.15636143,\n",
       "        -0.40593409, -0.18724536, -0.23328465,  0.36822675, -0.03379692,\n",
       "         0.43662362, -0.07810789,  0.12002267]),\n",
       " array([-0.50861912,  0.07528304,  0.30769445, -0.20044931, -0.27140257,\n",
       "        -0.28603452, -0.04957849, -0.19550132,  0.20914487, -0.05621752,\n",
       "        -0.08582839, -0.1372269 ,  0.57578611]),\n",
       " array([ 0.21160473, -0.30907994, -0.02712539,  0.05279942,  0.06787022,\n",
       "        -0.32013135, -0.16315051,  0.21553507,  0.1341839 , -0.29077518,\n",
       "        -0.52239889,  0.52370587,  0.162116  ]),\n",
       " array([-0.22591696,  0.07648554, -0.49869142,  0.47931378,  0.07128891,\n",
       "         0.30434119, -0.02569409,  0.11689586, -0.23736257,  0.0318388 ,\n",
       "        -0.04821201,  0.0464233 ,  0.53926983]),\n",
       " array([-0.26628645,  0.12169604, -0.04962237, -0.05574287,  0.06222011,\n",
       "        -0.30388245, -0.04289883,  0.04235219, -0.09555303,  0.60422163,\n",
       "         0.259214  ,  0.60095872, -0.07940162]),\n",
       " array([-0.01496997, -0.02596375,  0.14121803, -0.09168285, -0.05677422,\n",
       "         0.46390791, -0.83225706, -0.11403985,  0.11691707,  0.0119928 ,\n",
       "         0.08988884,  0.15671813, -0.01444734])]"
      ]
     },
     "execution_count": 34,
     "metadata": {},
     "output_type": "execute_result"
    }
   ],
   "source": [
    "# vectors are row-wise\n",
    "sorted_eig_vectors"
   ]
  },
  {
   "cell_type": "code",
   "execution_count": 35,
   "metadata": {},
   "outputs": [],
   "source": [
    "tot = sum(sorted_eig_values)"
   ]
  },
  {
   "cell_type": "code",
   "execution_count": 36,
   "metadata": {},
   "outputs": [],
   "source": [
    "sorted_var_exp = [(i/tot) for i in sorted(sorted_eig_values, reverse=True)]"
   ]
  },
  {
   "cell_type": "code",
   "execution_count": 37,
   "metadata": {},
   "outputs": [
    {
     "data": {
      "text/plain": [
       "[0.3619884809992635,\n",
       " 0.19207490257008925,\n",
       " 0.11123630536249997,\n",
       " 0.07069030182714033,\n",
       " 0.06563293679648598,\n",
       " 0.04935823319222561,\n",
       " 0.04238679322623329,\n",
       " 0.02680748948378864,\n",
       " 0.02222153404789708,\n",
       " 0.019300190939440798,\n",
       " 0.017368356899899146,\n",
       " 0.012982325756042157,\n",
       " 0.007952148898994494]"
      ]
     },
     "execution_count": 37,
     "metadata": {},
     "output_type": "execute_result"
    }
   ],
   "source": [
    "sorted_var_exp"
   ]
  },
  {
   "cell_type": "code",
   "execution_count": 38,
   "metadata": {},
   "outputs": [],
   "source": [
    "cum_var_exp = np.cumsum(sorted_var_exp)"
   ]
  },
  {
   "cell_type": "code",
   "execution_count": 39,
   "metadata": {},
   "outputs": [
    {
     "data": {
      "text/plain": [
       "array([0.36198848, 0.55406338, 0.66529969, 0.73598999, 0.80162293,\n",
       "       0.85098116, 0.89336795, 0.92017544, 0.94239698, 0.96169717,\n",
       "       0.97906553, 0.99204785, 1.        ])"
      ]
     },
     "execution_count": 39,
     "metadata": {},
     "output_type": "execute_result"
    }
   ],
   "source": [
    "cum_var_exp"
   ]
  },
  {
   "cell_type": "code",
   "execution_count": 40,
   "metadata": {},
   "outputs": [],
   "source": [
    "P_reduce = np.array(sorted_eig_vectors[0:-5]).transpose()"
   ]
  },
  {
   "cell_type": "code",
   "execution_count": 41,
   "metadata": {},
   "outputs": [
    {
     "data": {
      "text/plain": [
       "array([[-0.1443294 ,  0.48365155,  0.20738262, -0.0178563 , -0.26566365,\n",
       "         0.21353865,  0.05639636,  0.39613926],\n",
       "       [ 0.24518758,  0.22493093, -0.08901289,  0.53689028,  0.03521363,\n",
       "         0.53681385, -0.42052391,  0.06582674],\n",
       "       [ 0.00205106,  0.31606881, -0.6262239 , -0.21417556, -0.14302547,\n",
       "         0.15447466,  0.14917061, -0.17026002],\n",
       "       [ 0.23932041, -0.0105905 , -0.61208035,  0.06085941,  0.06610294,\n",
       "        -0.10082451,  0.28696914,  0.42797018],\n",
       "       [-0.14199204,  0.299634  , -0.13075693, -0.35179658,  0.72704851,\n",
       "         0.03814394, -0.3228833 , -0.15636143],\n",
       "       [-0.39466085,  0.06503951, -0.14617896,  0.19806835, -0.14931841,\n",
       "        -0.0841223 ,  0.02792498, -0.40593409],\n",
       "       [-0.4229343 , -0.00335981, -0.1506819 ,  0.15229479, -0.10902584,\n",
       "        -0.01892002,  0.06068521, -0.18724536],\n",
       "       [ 0.2985331 ,  0.02877949, -0.17036816, -0.20330102, -0.50070298,\n",
       "        -0.25859401, -0.59544729, -0.23328465],\n",
       "       [-0.31342949,  0.03930172, -0.14945431,  0.39905653,  0.13685982,\n",
       "        -0.53379539, -0.37213935,  0.36822675],\n",
       "       [ 0.0886167 ,  0.52999567,  0.13730621,  0.06592568, -0.07643678,\n",
       "        -0.41864414,  0.22771214, -0.03379692],\n",
       "       [-0.29671456, -0.27923515, -0.08522192, -0.42777141, -0.17361452,\n",
       "         0.10598274, -0.23207564,  0.43662362],\n",
       "       [-0.37616741, -0.16449619, -0.16600459,  0.18412074, -0.10116099,\n",
       "         0.26585107,  0.0447637 , -0.07810789],\n",
       "       [-0.28675223,  0.36490283,  0.12674592, -0.23207086, -0.1578688 ,\n",
       "         0.11972557, -0.0768045 ,  0.12002267]])"
      ]
     },
     "execution_count": 41,
     "metadata": {},
     "output_type": "execute_result"
    }
   ],
   "source": [
    "P_reduce"
   ]
  },
  {
   "cell_type": "code",
   "execution_count": 42,
   "metadata": {},
   "outputs": [],
   "source": [
    "Proj_data_2D = np.dot(wine_scaled, P_reduce)"
   ]
  },
  {
   "cell_type": "code",
   "execution_count": 43,
   "metadata": {},
   "outputs": [
    {
     "data": {
      "text/plain": [
       "(178, 8)"
      ]
     },
     "execution_count": 43,
     "metadata": {},
     "output_type": "execute_result"
    }
   ],
   "source": [
    "Proj_data_2D.shape"
   ]
  },
  {
   "cell_type": "code",
   "execution_count": 44,
   "metadata": {},
   "outputs": [
    {
     "data": {
      "text/plain": [
       "array([[-3.31675081,  1.44346263,  0.16573904, ...,  0.22388013,\n",
       "        -0.59642655, -0.06513909],\n",
       "       [-2.20946492, -0.33339289,  2.02645737, ...,  0.92712024,\n",
       "        -0.05377561, -1.02441595],\n",
       "       [-2.51674015,  1.0311513 , -0.98281867, ..., -0.54927605,\n",
       "        -0.42420545,  0.34421613],\n",
       "       ...,\n",
       "       [ 2.67783946,  2.76089913,  0.94094188, ..., -0.27306792,\n",
       "        -0.67923541, -0.0470238 ],\n",
       "       [ 2.38701709,  2.29734668,  0.5506962 , ..., -1.17878298,\n",
       "        -0.63397527, -0.39082877],\n",
       "       [ 3.20875816,  2.76891957, -1.01391366, ..., -0.29609218,\n",
       "        -0.00574126,  0.29291373]])"
      ]
     },
     "execution_count": 44,
     "metadata": {},
     "output_type": "execute_result"
    }
   ],
   "source": [
    "Proj_data_2D"
   ]
  },
  {
   "cell_type": "markdown",
   "metadata": {},
   "source": [
    "# Kmean without PCA"
   ]
  },
  {
   "cell_type": "code",
   "execution_count": 45,
   "metadata": {},
   "outputs": [],
   "source": [
    "from sklearn.cluster import KMeans"
   ]
  },
  {
   "cell_type": "code",
   "execution_count": 46,
   "metadata": {},
   "outputs": [
    {
     "data": {
      "text/plain": [
       "KMeans(algorithm='auto', copy_x=True, init='k-means++', max_iter=300,\n",
       "       n_clusters=3, n_init=15, n_jobs=None, precompute_distances='auto',\n",
       "       random_state=2, tol=0.0001, verbose=0)"
      ]
     },
     "execution_count": 46,
     "metadata": {},
     "output_type": "execute_result"
    }
   ],
   "source": [
    "kmeans_without_pca = KMeans(n_clusters=3, n_init=15, random_state=2)\n",
    "kmeans_without_pca.fit(wine_scaled)"
   ]
  },
  {
   "cell_type": "code",
   "execution_count": 47,
   "metadata": {},
   "outputs": [],
   "source": [
    "centroids = kmeans_without_pca.cluster_centers_"
   ]
  },
  {
   "cell_type": "code",
   "execution_count": 48,
   "metadata": {},
   "outputs": [],
   "source": [
    "centroid_df = pd.DataFrame(centroids, columns=list(wine_scaled))"
   ]
  },
  {
   "cell_type": "code",
   "execution_count": 49,
   "metadata": {},
   "outputs": [
    {
     "data": {
      "text/html": [
       "<div>\n",
       "<style scoped>\n",
       "    .dataframe tbody tr th:only-of-type {\n",
       "        vertical-align: middle;\n",
       "    }\n",
       "\n",
       "    .dataframe tbody tr th {\n",
       "        vertical-align: top;\n",
       "    }\n",
       "\n",
       "    .dataframe thead th {\n",
       "        text-align: right;\n",
       "    }\n",
       "</style>\n",
       "<table border=\"1\" class=\"dataframe\">\n",
       "  <thead>\n",
       "    <tr style=\"text-align: right;\">\n",
       "      <th></th>\n",
       "      <th>Alcohol</th>\n",
       "      <th>Malic_acid</th>\n",
       "      <th>Ash</th>\n",
       "      <th>Alcalinity_of_ash</th>\n",
       "      <th>Magnesium</th>\n",
       "      <th>Total_phenols</th>\n",
       "      <th>Flavanoids</th>\n",
       "      <th>Nonflavanoid_phenols</th>\n",
       "      <th>Proanthocyanins</th>\n",
       "      <th>Color_intensity</th>\n",
       "      <th>Hue</th>\n",
       "      <th>OD280</th>\n",
       "      <th>Proline</th>\n",
       "    </tr>\n",
       "  </thead>\n",
       "  <tbody>\n",
       "    <tr>\n",
       "      <th>0</th>\n",
       "      <td>-0.926072</td>\n",
       "      <td>-0.394042</td>\n",
       "      <td>-0.494517</td>\n",
       "      <td>0.170602</td>\n",
       "      <td>-0.491712</td>\n",
       "      <td>-0.075983</td>\n",
       "      <td>0.020813</td>\n",
       "      <td>-0.033534</td>\n",
       "      <td>0.058266</td>\n",
       "      <td>-0.901914</td>\n",
       "      <td>0.461804</td>\n",
       "      <td>0.270764</td>\n",
       "      <td>-0.753846</td>\n",
       "    </tr>\n",
       "    <tr>\n",
       "      <th>1</th>\n",
       "      <td>0.835232</td>\n",
       "      <td>-0.303810</td>\n",
       "      <td>0.364706</td>\n",
       "      <td>-0.610191</td>\n",
       "      <td>0.577587</td>\n",
       "      <td>0.885237</td>\n",
       "      <td>0.977820</td>\n",
       "      <td>-0.562090</td>\n",
       "      <td>0.580287</td>\n",
       "      <td>0.171063</td>\n",
       "      <td>0.473984</td>\n",
       "      <td>0.779247</td>\n",
       "      <td>1.125185</td>\n",
       "    </tr>\n",
       "    <tr>\n",
       "      <th>2</th>\n",
       "      <td>0.164907</td>\n",
       "      <td>0.871547</td>\n",
       "      <td>0.186898</td>\n",
       "      <td>0.524367</td>\n",
       "      <td>-0.075473</td>\n",
       "      <td>-0.979330</td>\n",
       "      <td>-1.215248</td>\n",
       "      <td>0.726064</td>\n",
       "      <td>-0.779706</td>\n",
       "      <td>0.941539</td>\n",
       "      <td>-1.164789</td>\n",
       "      <td>-1.292412</td>\n",
       "      <td>-0.407088</td>\n",
       "    </tr>\n",
       "  </tbody>\n",
       "</table>\n",
       "</div>"
      ],
      "text/plain": [
       "    Alcohol  Malic_acid       Ash  Alcalinity_of_ash  Magnesium  \\\n",
       "0 -0.926072   -0.394042 -0.494517           0.170602  -0.491712   \n",
       "1  0.835232   -0.303810  0.364706          -0.610191   0.577587   \n",
       "2  0.164907    0.871547  0.186898           0.524367  -0.075473   \n",
       "\n",
       "   Total_phenols  Flavanoids  Nonflavanoid_phenols  Proanthocyanins  \\\n",
       "0      -0.075983    0.020813             -0.033534         0.058266   \n",
       "1       0.885237    0.977820             -0.562090         0.580287   \n",
       "2      -0.979330   -1.215248              0.726064        -0.779706   \n",
       "\n",
       "   Color_intensity       Hue     OD280   Proline  \n",
       "0        -0.901914  0.461804  0.270764 -0.753846  \n",
       "1         0.171063  0.473984  0.779247  1.125185  \n",
       "2         0.941539 -1.164789 -1.292412 -0.407088  "
      ]
     },
     "execution_count": 49,
     "metadata": {},
     "output_type": "execute_result"
    }
   ],
   "source": [
    "# all future pc1 holding high virance of all feature, pc2 holding less virance of all feature\n",
    "centroid_df"
   ]
  },
  {
   "cell_type": "code",
   "execution_count": 50,
   "metadata": {},
   "outputs": [
    {
     "data": {
      "text/plain": [
       "1277.9284888446423"
      ]
     },
     "execution_count": 50,
     "metadata": {},
     "output_type": "execute_result"
    }
   ],
   "source": [
    "kmeans_without_pca.inertia_"
   ]
  },
  {
   "cell_type": "code",
   "execution_count": 51,
   "metadata": {},
   "outputs": [
    {
     "data": {
      "text/plain": [
       "(array([0, 1, 2]), array([65, 62, 51], dtype=int64))"
      ]
     },
     "execution_count": 51,
     "metadata": {},
     "output_type": "execute_result"
    }
   ],
   "source": [
    "np.unique(kmeans_without_pca.labels_,return_counts=True)"
   ]
  },
  {
   "cell_type": "code",
   "execution_count": null,
   "metadata": {},
   "outputs": [],
   "source": []
  },
  {
   "cell_type": "markdown",
   "metadata": {},
   "source": [
    "# Kmean with PCA"
   ]
  },
  {
   "cell_type": "code",
   "execution_count": 52,
   "metadata": {},
   "outputs": [],
   "source": [
    "from sklearn.cluster import KMeans"
   ]
  },
  {
   "cell_type": "code",
   "execution_count": 53,
   "metadata": {},
   "outputs": [
    {
     "data": {
      "text/plain": [
       "KMeans(algorithm='auto', copy_x=True, init='k-means++', max_iter=300,\n",
       "       n_clusters=3, n_init=15, n_jobs=None, precompute_distances='auto',\n",
       "       random_state=2, tol=0.0001, verbose=0)"
      ]
     },
     "execution_count": 53,
     "metadata": {},
     "output_type": "execute_result"
    }
   ],
   "source": [
    "kmeans_pca = KMeans(n_clusters=3, n_init=15, random_state=2)\n",
    "kmeans_pca.fit(Proj_data_2D)"
   ]
  },
  {
   "cell_type": "code",
   "execution_count": 54,
   "metadata": {},
   "outputs": [],
   "source": [
    "centroids = kmeans_pca.cluster_centers_"
   ]
  },
  {
   "cell_type": "code",
   "execution_count": 55,
   "metadata": {},
   "outputs": [],
   "source": [
    "centroid_df = pd.DataFrame(centroids, columns=['pc1','pc2','pc3','pc4','pc5','pc6','pc7','pc8'])"
   ]
  },
  {
   "cell_type": "code",
   "execution_count": 56,
   "metadata": {},
   "outputs": [
    {
     "data": {
      "text/html": [
       "<div>\n",
       "<style scoped>\n",
       "    .dataframe tbody tr th:only-of-type {\n",
       "        vertical-align: middle;\n",
       "    }\n",
       "\n",
       "    .dataframe tbody tr th {\n",
       "        vertical-align: top;\n",
       "    }\n",
       "\n",
       "    .dataframe thead th {\n",
       "        text-align: right;\n",
       "    }\n",
       "</style>\n",
       "<table border=\"1\" class=\"dataframe\">\n",
       "  <thead>\n",
       "    <tr style=\"text-align: right;\">\n",
       "      <th></th>\n",
       "      <th>pc1</th>\n",
       "      <th>pc2</th>\n",
       "      <th>pc3</th>\n",
       "      <th>pc4</th>\n",
       "      <th>pc5</th>\n",
       "      <th>pc6</th>\n",
       "      <th>pc7</th>\n",
       "      <th>pc8</th>\n",
       "    </tr>\n",
       "  </thead>\n",
       "  <tbody>\n",
       "    <tr>\n",
       "      <th>0</th>\n",
       "      <td>0.036957</td>\n",
       "      <td>-1.772239</td>\n",
       "      <td>-0.186139</td>\n",
       "      <td>0.080240</td>\n",
       "      <td>0.070878</td>\n",
       "      <td>-0.129806</td>\n",
       "      <td>0.002327</td>\n",
       "      <td>0.018015</td>\n",
       "    </tr>\n",
       "    <tr>\n",
       "      <th>1</th>\n",
       "      <td>-2.276194</td>\n",
       "      <td>0.932054</td>\n",
       "      <td>-0.001528</td>\n",
       "      <td>-0.135498</td>\n",
       "      <td>-0.134912</td>\n",
       "      <td>0.218283</td>\n",
       "      <td>-0.052110</td>\n",
       "      <td>-0.024964</td>\n",
       "    </tr>\n",
       "    <tr>\n",
       "      <th>2</th>\n",
       "      <td>2.720036</td>\n",
       "      <td>1.125651</td>\n",
       "      <td>0.239093</td>\n",
       "      <td>0.062457</td>\n",
       "      <td>0.073676</td>\n",
       "      <td>-0.099925</td>\n",
       "      <td>0.060383</td>\n",
       "      <td>0.007388</td>\n",
       "    </tr>\n",
       "  </tbody>\n",
       "</table>\n",
       "</div>"
      ],
      "text/plain": [
       "        pc1       pc2       pc3       pc4       pc5       pc6       pc7  \\\n",
       "0  0.036957 -1.772239 -0.186139  0.080240  0.070878 -0.129806  0.002327   \n",
       "1 -2.276194  0.932054 -0.001528 -0.135498 -0.134912  0.218283 -0.052110   \n",
       "2  2.720036  1.125651  0.239093  0.062457  0.073676 -0.099925  0.060383   \n",
       "\n",
       "        pc8  \n",
       "0  0.018015  \n",
       "1 -0.024964  \n",
       "2  0.007388  "
      ]
     },
     "execution_count": 56,
     "metadata": {},
     "output_type": "execute_result"
    }
   ],
   "source": [
    "# all future pc1 holding high virance of all feature, pc2 holding less virance of all feature\n",
    "centroid_df"
   ]
  },
  {
   "cell_type": "code",
   "execution_count": 57,
   "metadata": {},
   "outputs": [
    {
     "data": {
      "text/plain": [
       "1094.375571599998"
      ]
     },
     "execution_count": 57,
     "metadata": {},
     "output_type": "execute_result"
    }
   ],
   "source": [
    "kmeans_pca.inertia_"
   ]
  },
  {
   "cell_type": "code",
   "execution_count": 58,
   "metadata": {},
   "outputs": [
    {
     "data": {
      "text/plain": [
       "(array([0, 1, 2]), array([65, 62, 51], dtype=int64))"
      ]
     },
     "execution_count": 58,
     "metadata": {},
     "output_type": "execute_result"
    }
   ],
   "source": [
    "np.unique(kmeans_pca.labels_,return_counts=True)"
   ]
  },
  {
   "cell_type": "code",
   "execution_count": 59,
   "metadata": {},
   "outputs": [],
   "source": [
    "import matplotlib.pyplot as plt"
   ]
  },
  {
   "cell_type": "code",
   "execution_count": 60,
   "metadata": {},
   "outputs": [
    {
     "data": {
      "text/plain": [
       "Text(0, 0.5, 'petal width (cm)')"
      ]
     },
     "execution_count": 60,
     "metadata": {},
     "output_type": "execute_result"
    },
    {
     "data": {
      "image/png": "[encoded data removed]",
      "text/plain": [
       "<Figure size 432x288 with 1 Axes>"
      ]
     },
     "metadata": {
      "needs_background": "light"
     },
     "output_type": "display_data"
    }
   ],
   "source": [
    "# Proj_data_2D[:,0] contain all the features \n",
    "plt.scatter(Proj_data_2D[:,0], Proj_data_2D[:,1], c=kmeans_pca.labels_, cmap=plt.cm.Set1, edgecolors='k')\n",
    "plt.xlabel('petal length (cm)')\n",
    "plt.ylabel('petal width (cm)')\n"
   ]
  },
  {
   "cell_type": "markdown",
   "metadata": {},
   "source": [
    "# DecisionTreeClassifier with Wine_Scaled dataset with Kmeans_PCA_Labels ( 8 PCA 1 t0 8)"
   ]
  },
  {
   "cell_type": "code",
   "execution_count": 61,
   "metadata": {},
   "outputs": [
    {
     "data": {
      "text/html": [
       "<div>\n",
       "<style scoped>\n",
       "    .dataframe tbody tr th:only-of-type {\n",
       "        vertical-align: middle;\n",
       "    }\n",
       "\n",
       "    .dataframe tbody tr th {\n",
       "        vertical-align: top;\n",
       "    }\n",
       "\n",
       "    .dataframe thead th {\n",
       "        text-align: right;\n",
       "    }\n",
       "</style>\n",
       "<table border=\"1\" class=\"dataframe\">\n",
       "  <thead>\n",
       "    <tr style=\"text-align: right;\">\n",
       "      <th></th>\n",
       "      <th>Alcohol</th>\n",
       "      <th>Malic_acid</th>\n",
       "      <th>Ash</th>\n",
       "      <th>Alcalinity_of_ash</th>\n",
       "      <th>Magnesium</th>\n",
       "      <th>Total_phenols</th>\n",
       "      <th>Flavanoids</th>\n",
       "      <th>Nonflavanoid_phenols</th>\n",
       "      <th>Proanthocyanins</th>\n",
       "      <th>Color_intensity</th>\n",
       "      <th>Hue</th>\n",
       "      <th>OD280</th>\n",
       "      <th>Proline</th>\n",
       "    </tr>\n",
       "  </thead>\n",
       "  <tbody>\n",
       "    <tr>\n",
       "      <th>0</th>\n",
       "      <td>1.518613</td>\n",
       "      <td>-0.562250</td>\n",
       "      <td>0.232053</td>\n",
       "      <td>-1.169593</td>\n",
       "      <td>1.913905</td>\n",
       "      <td>0.808997</td>\n",
       "      <td>1.034819</td>\n",
       "      <td>-0.659563</td>\n",
       "      <td>1.224884</td>\n",
       "      <td>0.251717</td>\n",
       "      <td>0.362177</td>\n",
       "      <td>1.847920</td>\n",
       "      <td>1.013009</td>\n",
       "    </tr>\n",
       "    <tr>\n",
       "      <th>1</th>\n",
       "      <td>0.246290</td>\n",
       "      <td>-0.499413</td>\n",
       "      <td>-0.827996</td>\n",
       "      <td>-2.490847</td>\n",
       "      <td>0.018145</td>\n",
       "      <td>0.568648</td>\n",
       "      <td>0.733629</td>\n",
       "      <td>-0.820719</td>\n",
       "      <td>-0.544721</td>\n",
       "      <td>-0.293321</td>\n",
       "      <td>0.406051</td>\n",
       "      <td>1.113449</td>\n",
       "      <td>0.965242</td>\n",
       "    </tr>\n",
       "    <tr>\n",
       "      <th>2</th>\n",
       "      <td>0.196879</td>\n",
       "      <td>0.021231</td>\n",
       "      <td>1.109334</td>\n",
       "      <td>-0.268738</td>\n",
       "      <td>0.088358</td>\n",
       "      <td>0.808997</td>\n",
       "      <td>1.215533</td>\n",
       "      <td>-0.498407</td>\n",
       "      <td>2.135968</td>\n",
       "      <td>0.269020</td>\n",
       "      <td>0.318304</td>\n",
       "      <td>0.788587</td>\n",
       "      <td>1.395148</td>\n",
       "    </tr>\n",
       "    <tr>\n",
       "      <th>3</th>\n",
       "      <td>1.691550</td>\n",
       "      <td>-0.346811</td>\n",
       "      <td>0.487926</td>\n",
       "      <td>-0.809251</td>\n",
       "      <td>0.930918</td>\n",
       "      <td>2.491446</td>\n",
       "      <td>1.466525</td>\n",
       "      <td>-0.981875</td>\n",
       "      <td>1.032155</td>\n",
       "      <td>1.186068</td>\n",
       "      <td>-0.427544</td>\n",
       "      <td>1.184071</td>\n",
       "      <td>2.334574</td>\n",
       "    </tr>\n",
       "    <tr>\n",
       "      <th>4</th>\n",
       "      <td>0.295700</td>\n",
       "      <td>0.227694</td>\n",
       "      <td>1.840403</td>\n",
       "      <td>0.451946</td>\n",
       "      <td>1.281985</td>\n",
       "      <td>0.808997</td>\n",
       "      <td>0.663351</td>\n",
       "      <td>0.226796</td>\n",
       "      <td>0.401404</td>\n",
       "      <td>-0.319276</td>\n",
       "      <td>0.362177</td>\n",
       "      <td>0.449601</td>\n",
       "      <td>-0.037874</td>\n",
       "    </tr>\n",
       "  </tbody>\n",
       "</table>\n",
       "</div>"
      ],
      "text/plain": [
       "    Alcohol  Malic_acid       Ash  Alcalinity_of_ash  Magnesium  \\\n",
       "0  1.518613   -0.562250  0.232053          -1.169593   1.913905   \n",
       "1  0.246290   -0.499413 -0.827996          -2.490847   0.018145   \n",
       "2  0.196879    0.021231  1.109334          -0.268738   0.088358   \n",
       "3  1.691550   -0.346811  0.487926          -0.809251   0.930918   \n",
       "4  0.295700    0.227694  1.840403           0.451946   1.281985   \n",
       "\n",
       "   Total_phenols  Flavanoids  Nonflavanoid_phenols  Proanthocyanins  \\\n",
       "0       0.808997    1.034819             -0.659563         1.224884   \n",
       "1       0.568648    0.733629             -0.820719        -0.544721   \n",
       "2       0.808997    1.215533             -0.498407         2.135968   \n",
       "3       2.491446    1.466525             -0.981875         1.032155   \n",
       "4       0.808997    0.663351              0.226796         0.401404   \n",
       "\n",
       "   Color_intensity       Hue     OD280   Proline  \n",
       "0         0.251717  0.362177  1.847920  1.013009  \n",
       "1        -0.293321  0.406051  1.113449  0.965242  \n",
       "2         0.269020  0.318304  0.788587  1.395148  \n",
       "3         1.186068 -0.427544  1.184071  2.334574  \n",
       "4        -0.319276  0.362177  0.449601 -0.037874  "
      ]
     },
     "execution_count": 61,
     "metadata": {},
     "output_type": "execute_result"
    }
   ],
   "source": [
    "wine_scaled.head()"
   ]
  },
  {
   "cell_type": "code",
   "execution_count": 62,
   "metadata": {},
   "outputs": [],
   "source": [
    "wine_scaled['Class'] = kmeans_pca.labels_"
   ]
  },
  {
   "cell_type": "code",
   "execution_count": 63,
   "metadata": {},
   "outputs": [
    {
     "data": {
      "text/html": [
       "<div>\n",
       "<style scoped>\n",
       "    .dataframe tbody tr th:only-of-type {\n",
       "        vertical-align: middle;\n",
       "    }\n",
       "\n",
       "    .dataframe tbody tr th {\n",
       "        vertical-align: top;\n",
       "    }\n",
       "\n",
       "    .dataframe thead th {\n",
       "        text-align: right;\n",
       "    }\n",
       "</style>\n",
       "<table border=\"1\" class=\"dataframe\">\n",
       "  <thead>\n",
       "    <tr style=\"text-align: right;\">\n",
       "      <th></th>\n",
       "      <th>Alcohol</th>\n",
       "      <th>Malic_acid</th>\n",
       "      <th>Ash</th>\n",
       "      <th>Alcalinity_of_ash</th>\n",
       "      <th>Magnesium</th>\n",
       "      <th>Total_phenols</th>\n",
       "      <th>Flavanoids</th>\n",
       "      <th>Nonflavanoid_phenols</th>\n",
       "      <th>Proanthocyanins</th>\n",
       "      <th>Color_intensity</th>\n",
       "      <th>Hue</th>\n",
       "      <th>OD280</th>\n",
       "      <th>Proline</th>\n",
       "      <th>Class</th>\n",
       "    </tr>\n",
       "  </thead>\n",
       "  <tbody>\n",
       "    <tr>\n",
       "      <th>0</th>\n",
       "      <td>1.518613</td>\n",
       "      <td>-0.562250</td>\n",
       "      <td>0.232053</td>\n",
       "      <td>-1.169593</td>\n",
       "      <td>1.913905</td>\n",
       "      <td>0.808997</td>\n",
       "      <td>1.034819</td>\n",
       "      <td>-0.659563</td>\n",
       "      <td>1.224884</td>\n",
       "      <td>0.251717</td>\n",
       "      <td>0.362177</td>\n",
       "      <td>1.847920</td>\n",
       "      <td>1.013009</td>\n",
       "      <td>1</td>\n",
       "    </tr>\n",
       "    <tr>\n",
       "      <th>1</th>\n",
       "      <td>0.246290</td>\n",
       "      <td>-0.499413</td>\n",
       "      <td>-0.827996</td>\n",
       "      <td>-2.490847</td>\n",
       "      <td>0.018145</td>\n",
       "      <td>0.568648</td>\n",
       "      <td>0.733629</td>\n",
       "      <td>-0.820719</td>\n",
       "      <td>-0.544721</td>\n",
       "      <td>-0.293321</td>\n",
       "      <td>0.406051</td>\n",
       "      <td>1.113449</td>\n",
       "      <td>0.965242</td>\n",
       "      <td>1</td>\n",
       "    </tr>\n",
       "    <tr>\n",
       "      <th>2</th>\n",
       "      <td>0.196879</td>\n",
       "      <td>0.021231</td>\n",
       "      <td>1.109334</td>\n",
       "      <td>-0.268738</td>\n",
       "      <td>0.088358</td>\n",
       "      <td>0.808997</td>\n",
       "      <td>1.215533</td>\n",
       "      <td>-0.498407</td>\n",
       "      <td>2.135968</td>\n",
       "      <td>0.269020</td>\n",
       "      <td>0.318304</td>\n",
       "      <td>0.788587</td>\n",
       "      <td>1.395148</td>\n",
       "      <td>1</td>\n",
       "    </tr>\n",
       "    <tr>\n",
       "      <th>3</th>\n",
       "      <td>1.691550</td>\n",
       "      <td>-0.346811</td>\n",
       "      <td>0.487926</td>\n",
       "      <td>-0.809251</td>\n",
       "      <td>0.930918</td>\n",
       "      <td>2.491446</td>\n",
       "      <td>1.466525</td>\n",
       "      <td>-0.981875</td>\n",
       "      <td>1.032155</td>\n",
       "      <td>1.186068</td>\n",
       "      <td>-0.427544</td>\n",
       "      <td>1.184071</td>\n",
       "      <td>2.334574</td>\n",
       "      <td>1</td>\n",
       "    </tr>\n",
       "    <tr>\n",
       "      <th>4</th>\n",
       "      <td>0.295700</td>\n",
       "      <td>0.227694</td>\n",
       "      <td>1.840403</td>\n",
       "      <td>0.451946</td>\n",
       "      <td>1.281985</td>\n",
       "      <td>0.808997</td>\n",
       "      <td>0.663351</td>\n",
       "      <td>0.226796</td>\n",
       "      <td>0.401404</td>\n",
       "      <td>-0.319276</td>\n",
       "      <td>0.362177</td>\n",
       "      <td>0.449601</td>\n",
       "      <td>-0.037874</td>\n",
       "      <td>1</td>\n",
       "    </tr>\n",
       "  </tbody>\n",
       "</table>\n",
       "</div>"
      ],
      "text/plain": [
       "    Alcohol  Malic_acid       Ash  Alcalinity_of_ash  Magnesium  \\\n",
       "0  1.518613   -0.562250  0.232053          -1.169593   1.913905   \n",
       "1  0.246290   -0.499413 -0.827996          -2.490847   0.018145   \n",
       "2  0.196879    0.021231  1.109334          -0.268738   0.088358   \n",
       "3  1.691550   -0.346811  0.487926          -0.809251   0.930918   \n",
       "4  0.295700    0.227694  1.840403           0.451946   1.281985   \n",
       "\n",
       "   Total_phenols  Flavanoids  Nonflavanoid_phenols  Proanthocyanins  \\\n",
       "0       0.808997    1.034819             -0.659563         1.224884   \n",
       "1       0.568648    0.733629             -0.820719        -0.544721   \n",
       "2       0.808997    1.215533             -0.498407         2.135968   \n",
       "3       2.491446    1.466525             -0.981875         1.032155   \n",
       "4       0.808997    0.663351              0.226796         0.401404   \n",
       "\n",
       "   Color_intensity       Hue     OD280   Proline  Class  \n",
       "0         0.251717  0.362177  1.847920  1.013009      1  \n",
       "1        -0.293321  0.406051  1.113449  0.965242      1  \n",
       "2         0.269020  0.318304  0.788587  1.395148      1  \n",
       "3         1.186068 -0.427544  1.184071  2.334574      1  \n",
       "4        -0.319276  0.362177  0.449601 -0.037874      1  "
      ]
     },
     "execution_count": 63,
     "metadata": {},
     "output_type": "execute_result"
    }
   ],
   "source": [
    "wine_scaled.head()"
   ]
  },
  {
   "cell_type": "code",
   "execution_count": 64,
   "metadata": {},
   "outputs": [],
   "source": [
    "from sklearn.model_selection import train_test_split"
   ]
  },
  {
   "cell_type": "code",
   "execution_count": 65,
   "metadata": {},
   "outputs": [],
   "source": [
    "X = wine_scaled.drop('Class', axis=1)"
   ]
  },
  {
   "cell_type": "code",
   "execution_count": 66,
   "metadata": {},
   "outputs": [],
   "source": [
    "y = wine_scaled.Class"
   ]
  },
  {
   "cell_type": "code",
   "execution_count": 67,
   "metadata": {},
   "outputs": [],
   "source": [
    "X_train, X_test, y_train, y_test = train_test_split(X, y , test_size=0.3, random_state = 4)"
   ]
  },
  {
   "cell_type": "code",
   "execution_count": 68,
   "metadata": {},
   "outputs": [
    {
     "data": {
      "text/plain": [
       "(124, 13)"
      ]
     },
     "execution_count": 68,
     "metadata": {},
     "output_type": "execute_result"
    }
   ],
   "source": [
    "X_train.shape"
   ]
  },
  {
   "cell_type": "code",
   "execution_count": 69,
   "metadata": {},
   "outputs": [
    {
     "data": {
      "text/plain": [
       "(124,)"
      ]
     },
     "execution_count": 69,
     "metadata": {},
     "output_type": "execute_result"
    }
   ],
   "source": [
    "y_train.shape"
   ]
  },
  {
   "cell_type": "code",
   "execution_count": 70,
   "metadata": {},
   "outputs": [],
   "source": [
    "from sklearn.tree import DecisionTreeClassifier"
   ]
  },
  {
   "cell_type": "code",
   "execution_count": 71,
   "metadata": {},
   "outputs": [],
   "source": [
    "model_DT = DecisionTreeClassifier(criterion='entropy',\n",
    "    splitter='best',\n",
    "    max_depth=None,\n",
    "    min_samples_split=2,\n",
    "    min_samples_leaf=1,\n",
    "    min_weight_fraction_leaf=0.0,\n",
    "    max_features=None,\n",
    "    random_state=0,\n",
    "    max_leaf_nodes=None,\n",
    "    min_impurity_decrease=0.0,\n",
    "    min_impurity_split=None,\n",
    "    class_weight=None,\n",
    "    presort=False)"
   ]
  },
  {
   "cell_type": "code",
   "execution_count": 72,
   "metadata": {},
   "outputs": [
    {
     "data": {
      "text/plain": [
       "DecisionTreeClassifier(class_weight=None, criterion='entropy', max_depth=None,\n",
       "                       max_features=None, max_leaf_nodes=None,\n",
       "                       min_impurity_decrease=0.0, min_impurity_split=None,\n",
       "                       min_samples_leaf=1, min_samples_split=2,\n",
       "                       min_weight_fraction_leaf=0.0, presort=False,\n",
       "                       random_state=0, splitter='best')"
      ]
     },
     "execution_count": 72,
     "metadata": {},
     "output_type": "execute_result"
    }
   ],
   "source": [
    "model_DT.fit(X_train, y_train)"
   ]
  },
  {
   "cell_type": "code",
   "execution_count": 73,
   "metadata": {},
   "outputs": [
    {
     "data": {
      "text/plain": [
       "1.0"
      ]
     },
     "execution_count": 73,
     "metadata": {},
     "output_type": "execute_result"
    }
   ],
   "source": [
    "model_DT.score(X_train, y_train)"
   ]
  },
  {
   "cell_type": "code",
   "execution_count": 74,
   "metadata": {},
   "outputs": [
    {
     "data": {
      "text/plain": [
       "0.9259259259259259"
      ]
     },
     "execution_count": 74,
     "metadata": {},
     "output_type": "execute_result"
    }
   ],
   "source": [
    "model_DT.score(X_test, y_test)"
   ]
  },
  {
   "cell_type": "raw",
   "metadata": {},
   "source": [
    "0.907\n",
    "0.96\n",
    "0.98\n",
    "0.92\n",
    "0.92"
   ]
  },
  {
   "cell_type": "code",
   "execution_count": 75,
   "metadata": {},
   "outputs": [],
   "source": [
    "score_13 = np.array([.90, .96, .98,.92,.92])"
   ]
  },
  {
   "cell_type": "code",
   "execution_count": 76,
   "metadata": {},
   "outputs": [
    {
     "data": {
      "text/plain": [
       "0.9359999999999999"
      ]
     },
     "execution_count": 76,
     "metadata": {},
     "output_type": "execute_result"
    }
   ],
   "source": [
    "bisa_error = np.mean(score_13)\n",
    "bisa_error"
   ]
  },
  {
   "cell_type": "code",
   "execution_count": 77,
   "metadata": {},
   "outputs": [
    {
     "data": {
      "text/plain": [
       "0.001079999999999998"
      ]
     },
     "execution_count": 77,
     "metadata": {},
     "output_type": "execute_result"
    }
   ],
   "source": [
    "# ddof = 1 means n-1\n",
    "variance_error = np.var(score_13, ddof=1)\n",
    "variance_error"
   ]
  },
  {
   "cell_type": "code",
   "execution_count": null,
   "metadata": {},
   "outputs": [],
   "source": []
  },
  {
   "cell_type": "markdown",
   "metadata": {},
   "source": [
    "# DecisionTreeClassifier with PCA (PCA 1 to 8)"
   ]
  },
  {
   "cell_type": "code",
   "execution_count": 78,
   "metadata": {},
   "outputs": [],
   "source": [
    "Proj_data_2D = pd.DataFrame(Proj_data_2D, columns=['pc1','pc2','pc3','pc4','pc5','pc6','pc7','pc8'])"
   ]
  },
  {
   "cell_type": "code",
   "execution_count": 79,
   "metadata": {},
   "outputs": [
    {
     "data": {
      "text/html": [
       "<div>\n",
       "<style scoped>\n",
       "    .dataframe tbody tr th:only-of-type {\n",
       "        vertical-align: middle;\n",
       "    }\n",
       "\n",
       "    .dataframe tbody tr th {\n",
       "        vertical-align: top;\n",
       "    }\n",
       "\n",
       "    .dataframe thead th {\n",
       "        text-align: right;\n",
       "    }\n",
       "</style>\n",
       "<table border=\"1\" class=\"dataframe\">\n",
       "  <thead>\n",
       "    <tr style=\"text-align: right;\">\n",
       "      <th></th>\n",
       "      <th>pc1</th>\n",
       "      <th>pc2</th>\n",
       "      <th>pc3</th>\n",
       "      <th>pc4</th>\n",
       "      <th>pc5</th>\n",
       "      <th>pc6</th>\n",
       "      <th>pc7</th>\n",
       "      <th>pc8</th>\n",
       "    </tr>\n",
       "  </thead>\n",
       "  <tbody>\n",
       "    <tr>\n",
       "      <th>0</th>\n",
       "      <td>-3.316751</td>\n",
       "      <td>1.443463</td>\n",
       "      <td>0.165739</td>\n",
       "      <td>-0.215631</td>\n",
       "      <td>0.693043</td>\n",
       "      <td>0.223880</td>\n",
       "      <td>-0.596427</td>\n",
       "      <td>-0.065139</td>\n",
       "    </tr>\n",
       "    <tr>\n",
       "      <th>1</th>\n",
       "      <td>-2.209465</td>\n",
       "      <td>-0.333393</td>\n",
       "      <td>2.026457</td>\n",
       "      <td>-0.291358</td>\n",
       "      <td>-0.257655</td>\n",
       "      <td>0.927120</td>\n",
       "      <td>-0.053776</td>\n",
       "      <td>-1.024416</td>\n",
       "    </tr>\n",
       "    <tr>\n",
       "      <th>2</th>\n",
       "      <td>-2.516740</td>\n",
       "      <td>1.031151</td>\n",
       "      <td>-0.982819</td>\n",
       "      <td>0.724902</td>\n",
       "      <td>-0.251033</td>\n",
       "      <td>-0.549276</td>\n",
       "      <td>-0.424205</td>\n",
       "      <td>0.344216</td>\n",
       "    </tr>\n",
       "    <tr>\n",
       "      <th>3</th>\n",
       "      <td>-3.757066</td>\n",
       "      <td>2.756372</td>\n",
       "      <td>0.176192</td>\n",
       "      <td>0.567983</td>\n",
       "      <td>-0.311842</td>\n",
       "      <td>-0.114431</td>\n",
       "      <td>0.383337</td>\n",
       "      <td>-0.643593</td>\n",
       "    </tr>\n",
       "    <tr>\n",
       "      <th>4</th>\n",
       "      <td>-1.008908</td>\n",
       "      <td>0.869831</td>\n",
       "      <td>-2.026688</td>\n",
       "      <td>-0.409766</td>\n",
       "      <td>0.298458</td>\n",
       "      <td>0.406520</td>\n",
       "      <td>-0.444074</td>\n",
       "      <td>-0.416700</td>\n",
       "    </tr>\n",
       "  </tbody>\n",
       "</table>\n",
       "</div>"
      ],
      "text/plain": [
       "        pc1       pc2       pc3       pc4       pc5       pc6       pc7  \\\n",
       "0 -3.316751  1.443463  0.165739 -0.215631  0.693043  0.223880 -0.596427   \n",
       "1 -2.209465 -0.333393  2.026457 -0.291358 -0.257655  0.927120 -0.053776   \n",
       "2 -2.516740  1.031151 -0.982819  0.724902 -0.251033 -0.549276 -0.424205   \n",
       "3 -3.757066  2.756372  0.176192  0.567983 -0.311842 -0.114431  0.383337   \n",
       "4 -1.008908  0.869831 -2.026688 -0.409766  0.298458  0.406520 -0.444074   \n",
       "\n",
       "        pc8  \n",
       "0 -0.065139  \n",
       "1 -1.024416  \n",
       "2  0.344216  \n",
       "3 -0.643593  \n",
       "4 -0.416700  "
      ]
     },
     "execution_count": 79,
     "metadata": {},
     "output_type": "execute_result"
    }
   ],
   "source": [
    "Proj_data_2D.head()"
   ]
  },
  {
   "cell_type": "code",
   "execution_count": 80,
   "metadata": {},
   "outputs": [],
   "source": [
    "Proj_data_2D['Class'] = kmeans_pca.labels_"
   ]
  },
  {
   "cell_type": "code",
   "execution_count": 81,
   "metadata": {},
   "outputs": [
    {
     "data": {
      "text/html": [
       "<div>\n",
       "<style scoped>\n",
       "    .dataframe tbody tr th:only-of-type {\n",
       "        vertical-align: middle;\n",
       "    }\n",
       "\n",
       "    .dataframe tbody tr th {\n",
       "        vertical-align: top;\n",
       "    }\n",
       "\n",
       "    .dataframe thead th {\n",
       "        text-align: right;\n",
       "    }\n",
       "</style>\n",
       "<table border=\"1\" class=\"dataframe\">\n",
       "  <thead>\n",
       "    <tr style=\"text-align: right;\">\n",
       "      <th></th>\n",
       "      <th>pc1</th>\n",
       "      <th>pc2</th>\n",
       "      <th>pc3</th>\n",
       "      <th>pc4</th>\n",
       "      <th>pc5</th>\n",
       "      <th>pc6</th>\n",
       "      <th>pc7</th>\n",
       "      <th>pc8</th>\n",
       "      <th>Class</th>\n",
       "    </tr>\n",
       "  </thead>\n",
       "  <tbody>\n",
       "    <tr>\n",
       "      <th>0</th>\n",
       "      <td>-3.316751</td>\n",
       "      <td>1.443463</td>\n",
       "      <td>0.165739</td>\n",
       "      <td>-0.215631</td>\n",
       "      <td>0.693043</td>\n",
       "      <td>0.223880</td>\n",
       "      <td>-0.596427</td>\n",
       "      <td>-0.065139</td>\n",
       "      <td>1</td>\n",
       "    </tr>\n",
       "    <tr>\n",
       "      <th>1</th>\n",
       "      <td>-2.209465</td>\n",
       "      <td>-0.333393</td>\n",
       "      <td>2.026457</td>\n",
       "      <td>-0.291358</td>\n",
       "      <td>-0.257655</td>\n",
       "      <td>0.927120</td>\n",
       "      <td>-0.053776</td>\n",
       "      <td>-1.024416</td>\n",
       "      <td>1</td>\n",
       "    </tr>\n",
       "    <tr>\n",
       "      <th>2</th>\n",
       "      <td>-2.516740</td>\n",
       "      <td>1.031151</td>\n",
       "      <td>-0.982819</td>\n",
       "      <td>0.724902</td>\n",
       "      <td>-0.251033</td>\n",
       "      <td>-0.549276</td>\n",
       "      <td>-0.424205</td>\n",
       "      <td>0.344216</td>\n",
       "      <td>1</td>\n",
       "    </tr>\n",
       "    <tr>\n",
       "      <th>3</th>\n",
       "      <td>-3.757066</td>\n",
       "      <td>2.756372</td>\n",
       "      <td>0.176192</td>\n",
       "      <td>0.567983</td>\n",
       "      <td>-0.311842</td>\n",
       "      <td>-0.114431</td>\n",
       "      <td>0.383337</td>\n",
       "      <td>-0.643593</td>\n",
       "      <td>1</td>\n",
       "    </tr>\n",
       "    <tr>\n",
       "      <th>4</th>\n",
       "      <td>-1.008908</td>\n",
       "      <td>0.869831</td>\n",
       "      <td>-2.026688</td>\n",
       "      <td>-0.409766</td>\n",
       "      <td>0.298458</td>\n",
       "      <td>0.406520</td>\n",
       "      <td>-0.444074</td>\n",
       "      <td>-0.416700</td>\n",
       "      <td>1</td>\n",
       "    </tr>\n",
       "  </tbody>\n",
       "</table>\n",
       "</div>"
      ],
      "text/plain": [
       "        pc1       pc2       pc3       pc4       pc5       pc6       pc7  \\\n",
       "0 -3.316751  1.443463  0.165739 -0.215631  0.693043  0.223880 -0.596427   \n",
       "1 -2.209465 -0.333393  2.026457 -0.291358 -0.257655  0.927120 -0.053776   \n",
       "2 -2.516740  1.031151 -0.982819  0.724902 -0.251033 -0.549276 -0.424205   \n",
       "3 -3.757066  2.756372  0.176192  0.567983 -0.311842 -0.114431  0.383337   \n",
       "4 -1.008908  0.869831 -2.026688 -0.409766  0.298458  0.406520 -0.444074   \n",
       "\n",
       "        pc8  Class  \n",
       "0 -0.065139      1  \n",
       "1 -1.024416      1  \n",
       "2  0.344216      1  \n",
       "3 -0.643593      1  \n",
       "4 -0.416700      1  "
      ]
     },
     "execution_count": 81,
     "metadata": {},
     "output_type": "execute_result"
    }
   ],
   "source": [
    "Proj_data_2D.head()"
   ]
  },
  {
   "cell_type": "code",
   "execution_count": 82,
   "metadata": {},
   "outputs": [],
   "source": [
    "x = Proj_data_2D.drop('Class', axis=1)"
   ]
  },
  {
   "cell_type": "code",
   "execution_count": 83,
   "metadata": {},
   "outputs": [],
   "source": [
    "y = Proj_data_2D.Class"
   ]
  },
  {
   "cell_type": "code",
   "execution_count": 84,
   "metadata": {},
   "outputs": [],
   "source": [
    "X_train, X_test, y_train, y_test = train_test_split(x, y , test_size=0.3, random_state = 3)"
   ]
  },
  {
   "cell_type": "code",
   "execution_count": 85,
   "metadata": {},
   "outputs": [
    {
     "data": {
      "text/plain": [
       "(124, 8)"
      ]
     },
     "execution_count": 85,
     "metadata": {},
     "output_type": "execute_result"
    }
   ],
   "source": [
    "X_train.shape"
   ]
  },
  {
   "cell_type": "code",
   "execution_count": 86,
   "metadata": {},
   "outputs": [
    {
     "data": {
      "text/plain": [
       "(124,)"
      ]
     },
     "execution_count": 86,
     "metadata": {},
     "output_type": "execute_result"
    }
   ],
   "source": [
    "y_train.shape"
   ]
  },
  {
   "cell_type": "code",
   "execution_count": 87,
   "metadata": {},
   "outputs": [],
   "source": [
    "from sklearn.tree import DecisionTreeClassifier"
   ]
  },
  {
   "cell_type": "code",
   "execution_count": 88,
   "metadata": {},
   "outputs": [],
   "source": [
    "model_DT = DecisionTreeClassifier(criterion='entropy',\n",
    "    splitter='best',\n",
    "    max_depth=None,\n",
    "    min_samples_split=2,\n",
    "    min_samples_leaf=1,\n",
    "    min_weight_fraction_leaf=0.0,\n",
    "    max_features=None,\n",
    "    random_state=0,\n",
    "    max_leaf_nodes=None,\n",
    "    min_impurity_decrease=0.0,\n",
    "    min_impurity_split=None,\n",
    "    class_weight=None,\n",
    "    presort=False)"
   ]
  },
  {
   "cell_type": "code",
   "execution_count": 89,
   "metadata": {},
   "outputs": [
    {
     "data": {
      "text/plain": [
       "DecisionTreeClassifier(class_weight=None, criterion='entropy', max_depth=None,\n",
       "                       max_features=None, max_leaf_nodes=None,\n",
       "                       min_impurity_decrease=0.0, min_impurity_split=None,\n",
       "                       min_samples_leaf=1, min_samples_split=2,\n",
       "                       min_weight_fraction_leaf=0.0, presort=False,\n",
       "                       random_state=0, splitter='best')"
      ]
     },
     "execution_count": 89,
     "metadata": {},
     "output_type": "execute_result"
    }
   ],
   "source": [
    "model_DT.fit(X_train, y_train)"
   ]
  },
  {
   "cell_type": "code",
   "execution_count": 90,
   "metadata": {},
   "outputs": [
    {
     "data": {
      "text/plain": [
       "1.0"
      ]
     },
     "execution_count": 90,
     "metadata": {},
     "output_type": "execute_result"
    }
   ],
   "source": [
    "model_DT.score(X_train, y_train)"
   ]
  },
  {
   "cell_type": "code",
   "execution_count": 91,
   "metadata": {},
   "outputs": [
    {
     "data": {
      "text/plain": [
       "0.9629629629629629"
      ]
     },
     "execution_count": 91,
     "metadata": {},
     "output_type": "execute_result"
    }
   ],
   "source": [
    "model_DT.score(X_test, y_test)"
   ]
  },
  {
   "cell_type": "raw",
   "metadata": {},
   "source": [
    ".96\n",
    ".94\n",
    ".90\n",
    ".96\n",
    ".98"
   ]
  },
  {
   "cell_type": "code",
   "execution_count": 92,
   "metadata": {},
   "outputs": [],
   "source": [
    "score_8 = np.array([.96, .94, .90,.96,.98])"
   ]
  },
  {
   "cell_type": "code",
   "execution_count": 93,
   "metadata": {},
   "outputs": [
    {
     "data": {
      "text/plain": [
       "0.9480000000000001"
      ]
     },
     "execution_count": 93,
     "metadata": {},
     "output_type": "execute_result"
    }
   ],
   "source": [
    "bisa_error = np.mean(score_8)\n",
    "bisa_error"
   ]
  },
  {
   "cell_type": "code",
   "execution_count": 94,
   "metadata": {},
   "outputs": [
    {
     "data": {
      "text/plain": [
       "0.0009199999999999989"
      ]
     },
     "execution_count": 94,
     "metadata": {},
     "output_type": "execute_result"
    }
   ],
   "source": [
    "# ddof = 1 means n-1\n",
    "variance_error = np.var(score_8, ddof=1)\n",
    "variance_error"
   ]
  },
  {
   "cell_type": "code",
   "execution_count": 95,
   "metadata": {},
   "outputs": [
    {
     "data": {
      "text/plain": [
       "0.07633587786259542"
      ]
     },
     "execution_count": 95,
     "metadata": {},
     "output_type": "execute_result"
    }
   ],
   "source": [
    "1/13.1"
   ]
  },
  {
   "cell_type": "code",
   "execution_count": 96,
   "metadata": {},
   "outputs": [
    {
     "data": {
      "text/plain": [
       "0.1"
      ]
     },
     "execution_count": 96,
     "metadata": {},
     "output_type": "execute_result"
    }
   ],
   "source": [
    "1/10"
   ]
  },
  {
   "cell_type": "code",
   "execution_count": 97,
   "metadata": {},
   "outputs": [
    {
     "data": {
      "text/plain": [
       "7.5"
      ]
     },
     "execution_count": 97,
     "metadata": {},
     "output_type": "execute_result"
    }
   ],
   "source": [
    "(30/400)*100"
   ]
  },
  {
   "cell_type": "code",
   "execution_count": 98,
   "metadata": {},
   "outputs": [
    {
     "data": {
      "text/plain": [
       "92.5"
      ]
     },
     "execution_count": 98,
     "metadata": {},
     "output_type": "execute_result"
    }
   ],
   "source": [
    "100-7.5"
   ]
  },
  {
   "cell_type": "code",
   "execution_count": 99,
   "metadata": {},
   "outputs": [
    {
     "data": {
      "text/plain": [
       "0.023809523809523808"
      ]
     },
     "execution_count": 99,
     "metadata": {},
     "output_type": "execute_result"
    }
   ],
   "source": [
    "1/42"
   ]
  },
  {
   "cell_type": "code",
   "execution_count": 100,
   "metadata": {},
   "outputs": [
    {
     "data": {
      "text/plain": [
       "0.8205128205128205"
      ]
     },
     "execution_count": 100,
     "metadata": {},
     "output_type": "execute_result"
    }
   ],
   "source": [
    "(0.0156-0.0028)/0.0156"
   ]
  },
  {
   "cell_type": "code",
   "execution_count": 101,
   "metadata": {},
   "outputs": [
    {
     "data": {
      "text/plain": [
       "0.1875"
      ]
     },
     "execution_count": 101,
     "metadata": {},
     "output_type": "execute_result"
    }
   ],
   "source": [
    "(80-65)/80"
   ]
  },
  {
   "cell_type": "code",
   "execution_count": 102,
   "metadata": {},
   "outputs": [
    {
     "data": {
      "text/plain": [
       "0.05555555555555555"
      ]
     },
     "execution_count": 102,
     "metadata": {},
     "output_type": "execute_result"
    }
   ],
   "source": [
    "(180-170)/180"
   ]
  },
  {
   "cell_type": "code",
   "execution_count": null,
   "metadata": {},
   "outputs": [],
   "source": []
  },
  {
   "cell_type": "code",
   "execution_count": null,
   "metadata": {},
   "outputs": [],
   "source": []
  },
  {
   "cell_type": "code",
   "execution_count": 138,
   "metadata": {},
   "outputs": [],
   "source": [
    "import pandas as pd\n",
    "import numpy as np\n",
    "import random as rn\n",
    "from sklearn.decomposition import PCA\n",
    "from sklearn import preprocessing\n",
    "import matplotlib.pyplot as plt"
   ]
  },
  {
   "cell_type": "code",
   "execution_count": 139,
   "metadata": {},
   "outputs": [],
   "source": [
    "variabls = ['var'+ str(i) for i in range(1,101)]"
   ]
  },
  {
   "cell_type": "code",
   "execution_count": 140,
   "metadata": {
    "scrolled": true
   },
   "outputs": [],
   "source": [
    "samp1 = ['samp1_'+str(i) for i in range(1,6)]\n",
    "samp2 = ['samp2_'+str(i) for i in range(1,6)]"
   ]
  },
  {
   "cell_type": "code",
   "execution_count": 141,
   "metadata": {},
   "outputs": [
    {
     "data": {
      "text/plain": [
       "(['samp1_1', 'samp1_2', 'samp1_3', 'samp1_4', 'samp1_5'],\n",
       " ['samp2_1', 'samp2_2', 'samp2_3', 'samp2_4', 'samp2_5'])"
      ]
     },
     "execution_count": 141,
     "metadata": {},
     "output_type": "execute_result"
    }
   ],
   "source": [
    "samp1, samp2"
   ]
  },
  {
   "cell_type": "code",
   "execution_count": 142,
   "metadata": {},
   "outputs": [
    {
     "data": {
      "text/plain": [
       "('samp1_1',\n",
       " 'samp1_2',\n",
       " 'samp1_3',\n",
       " 'samp1_4',\n",
       " 'samp1_5',\n",
       " 'samp2_1',\n",
       " 'samp2_2',\n",
       " 'samp2_3',\n",
       " 'samp2_4',\n",
       " 'samp2_5')"
      ]
     },
     "execution_count": 142,
     "metadata": {},
     "output_type": "execute_result"
    }
   ],
   "source": [
    "*samp1, *samp2"
   ]
  },
  {
   "cell_type": "code",
   "execution_count": 153,
   "metadata": {},
   "outputs": [],
   "source": [
    "data = pd.DataFrame(columns=[*samp1, *samp2], index=variabls)"
   ]
  },
  {
   "cell_type": "code",
   "execution_count": 154,
   "metadata": {},
   "outputs": [],
   "source": [
    "for i in data.index:\n",
    "    data.loc[i, 'samp1_1':'samp1_5'] = np.random.poisson(rn.randrange(10,1000), size=5)\n",
    "    data.loc[i, 'samp2_1':'samp2_5'] = np.random.poisson(rn.randrange(10,1000), size=5)"
   ]
  },
  {
   "cell_type": "code",
   "execution_count": 155,
   "metadata": {},
   "outputs": [
    {
     "data": {
      "text/html": [
       "<div>\n",
       "<style scoped>\n",
       "    .dataframe tbody tr th:only-of-type {\n",
       "        vertical-align: middle;\n",
       "    }\n",
       "\n",
       "    .dataframe tbody tr th {\n",
       "        vertical-align: top;\n",
       "    }\n",
       "\n",
       "    .dataframe thead th {\n",
       "        text-align: right;\n",
       "    }\n",
       "</style>\n",
       "<table border=\"1\" class=\"dataframe\">\n",
       "  <thead>\n",
       "    <tr style=\"text-align: right;\">\n",
       "      <th></th>\n",
       "      <th>samp1_1</th>\n",
       "      <th>samp1_2</th>\n",
       "      <th>samp1_3</th>\n",
       "      <th>samp1_4</th>\n",
       "      <th>samp1_5</th>\n",
       "      <th>samp2_1</th>\n",
       "      <th>samp2_2</th>\n",
       "      <th>samp2_3</th>\n",
       "      <th>samp2_4</th>\n",
       "      <th>samp2_5</th>\n",
       "    </tr>\n",
       "  </thead>\n",
       "  <tbody>\n",
       "    <tr>\n",
       "      <th>var1</th>\n",
       "      <td>307</td>\n",
       "      <td>330</td>\n",
       "      <td>290</td>\n",
       "      <td>311</td>\n",
       "      <td>275</td>\n",
       "      <td>260</td>\n",
       "      <td>204</td>\n",
       "      <td>244</td>\n",
       "      <td>238</td>\n",
       "      <td>205</td>\n",
       "    </tr>\n",
       "    <tr>\n",
       "      <th>var2</th>\n",
       "      <td>956</td>\n",
       "      <td>940</td>\n",
       "      <td>953</td>\n",
       "      <td>945</td>\n",
       "      <td>932</td>\n",
       "      <td>906</td>\n",
       "      <td>899</td>\n",
       "      <td>917</td>\n",
       "      <td>852</td>\n",
       "      <td>939</td>\n",
       "    </tr>\n",
       "    <tr>\n",
       "      <th>var3</th>\n",
       "      <td>98</td>\n",
       "      <td>93</td>\n",
       "      <td>121</td>\n",
       "      <td>100</td>\n",
       "      <td>98</td>\n",
       "      <td>524</td>\n",
       "      <td>545</td>\n",
       "      <td>500</td>\n",
       "      <td>532</td>\n",
       "      <td>525</td>\n",
       "    </tr>\n",
       "    <tr>\n",
       "      <th>var4</th>\n",
       "      <td>922</td>\n",
       "      <td>865</td>\n",
       "      <td>882</td>\n",
       "      <td>837</td>\n",
       "      <td>856</td>\n",
       "      <td>792</td>\n",
       "      <td>826</td>\n",
       "      <td>827</td>\n",
       "      <td>791</td>\n",
       "      <td>798</td>\n",
       "    </tr>\n",
       "    <tr>\n",
       "      <th>var5</th>\n",
       "      <td>608</td>\n",
       "      <td>579</td>\n",
       "      <td>619</td>\n",
       "      <td>604</td>\n",
       "      <td>584</td>\n",
       "      <td>735</td>\n",
       "      <td>722</td>\n",
       "      <td>693</td>\n",
       "      <td>739</td>\n",
       "      <td>718</td>\n",
       "    </tr>\n",
       "  </tbody>\n",
       "</table>\n",
       "</div>"
      ],
      "text/plain": [
       "      samp1_1  samp1_2  samp1_3  samp1_4  samp1_5  samp2_1  samp2_2  samp2_3  \\\n",
       "var1      307      330      290      311      275      260      204      244   \n",
       "var2      956      940      953      945      932      906      899      917   \n",
       "var3       98       93      121      100       98      524      545      500   \n",
       "var4      922      865      882      837      856      792      826      827   \n",
       "var5      608      579      619      604      584      735      722      693   \n",
       "\n",
       "      samp2_4  samp2_5  \n",
       "var1      238      205  \n",
       "var2      852      939  \n",
       "var3      532      525  \n",
       "var4      791      798  \n",
       "var5      739      718  "
      ]
     },
     "execution_count": 155,
     "metadata": {},
     "output_type": "execute_result"
    }
   ],
   "source": [
    "data.head()"
   ]
  },
  {
   "cell_type": "code",
   "execution_count": 156,
   "metadata": {},
   "outputs": [],
   "source": [
    "scaled = preprocessing.StandardScaler()"
   ]
  },
  {
   "cell_type": "code",
   "execution_count": 157,
   "metadata": {},
   "outputs": [],
   "source": [
    "scaled = scaled.fit_transform(data)"
   ]
  },
  {
   "cell_type": "code",
   "execution_count": 158,
   "metadata": {},
   "outputs": [
    {
     "data": {
      "text/plain": [
       "array([[-6.83178084e-01, -6.16397924e-01, -7.42891697e-01,\n",
       "        -6.80169562e-01, -7.94154657e-01, -9.55707211e-01,\n",
       "        -1.13813098e+00, -9.94814178e-01, -1.01272063e+00,\n",
       "        -1.13662250e+00],\n",
       "       [ 1.39112637e+00,  1.36371021e+00,  1.36250796e+00,\n",
       "         1.33774107e+00,  1.31141277e+00,  1.29785849e+00,\n",
       "         1.29205438e+00,  1.38160985e+00,  1.12012724e+00,\n",
       "         1.42150130e+00],\n",
       "       [-1.35117443e+00, -1.38571863e+00, -1.27956220e+00,\n",
       "        -1.35174550e+00, -1.36140798e+00, -3.47453783e-02,\n",
       "         5.42333452e-02, -9.08549632e-02,  8.54528626e-03,\n",
       "        -2.13641674e-02],\n",
       "       [ 1.28245710e+00,  1.12025429e+00,  1.13704284e+00,\n",
       "         9.93996041e-01,  1.06784637e+00,  9.00170422e-01,\n",
       "         1.03679750e+00,  1.06381169e+00,  9.08231929e-01,\n",
       "         9.30090595e-01],\n",
       "       [ 2.78864504e-01,  1.91875724e-01,  3.01869217e-01,\n",
       "         2.52397970e-01,  1.96135048e-01,  7.01326390e-01,\n",
       "         6.73143861e-01,  5.90645538e-01,  7.27599862e-01,\n",
       "         6.51276012e-01],\n",
       "       [ 1.51258025e+00,  1.38967884e+00,  1.19102744e+00,\n",
       "         1.13085749e+00,  1.23129225e+00, -4.28944951e-01,\n",
       "        -4.28307057e-01, -5.64021114e-01, -5.68087852e-01,\n",
       "        -3.28060208e-01],\n",
       "       [-6.76785774e-01, -5.61214583e-01, -5.42831096e-01,\n",
       "        -7.08814981e-01, -5.76226825e-01,  1.56996085e+00,\n",
       "         1.38296779e+00,  1.65703492e+00,  1.43275966e+00,\n",
       "         1.73168252e+00],\n",
       "       [-8.46181977e-01, -8.82576395e-01, -9.04845516e-01,\n",
       "        -8.77504671e-01, -9.03118572e-01,  1.00831367e+00,\n",
       "         1.44241117e+00,  1.28627040e+00,  1.27296976e+00,\n",
       "         1.35179765e+00],\n",
       "       [ 1.34318404e+00,  1.64611908e+00,  1.41014143e+00,\n",
       "         1.39184908e+00,  1.37230437e+00, -1.63819575e-01,\n",
       "        -2.60466917e-01, -4.84818750e-02, -2.10297411e-01,\n",
       "        -1.88652917e-01],\n",
       "       [ 8.70153138e-01,  9.06013085e-01,  7.84555111e-01,\n",
       "         9.84447568e-01,  1.00695477e+00,  4.15270063e-01,\n",
       "         2.71026859e-01,  2.51660833e-01,  2.44756451e-01,\n",
       "         7.97061187e-02],\n",
       "       [-1.30003596e+00, -1.43116373e+00, -1.38753141e+00,\n",
       "        -1.32946573e+00, -1.37102245e+00, -1.33944131e+00,\n",
       "        -1.30247445e+00, -1.28789470e+00, -1.34272152e+00,\n",
       "        -1.28997052e+00],\n",
       "       [-9.06908918e-01, -8.46869527e-01, -8.41334215e-01,\n",
       "        -7.56557346e-01, -8.06973941e-01, -1.25222901e+00,\n",
       "        -1.29198444e+00, -1.27377034e+00, -1.19335270e+00,\n",
       "        -1.28997052e+00],\n",
       "       [ 8.07029081e-02,  6.52786469e-02, -1.25117264e-02,\n",
       "         1.63278889e-01,  1.02554274e-02, -1.12664331e+00,\n",
       "        -1.12414430e+00, -1.09721581e+00, -1.12040513e+00,\n",
       "        -1.03903739e+00],\n",
       "       [ 9.94803174e-01,  1.04559448e+00,  1.27359213e+00,\n",
       "         1.21679375e+00,  9.81316206e-01, -3.69640590e-01,\n",
       "        -2.60466917e-01, -3.62748946e-01, -4.70824431e-01,\n",
       "        -2.33960286e-01],\n",
       "       [-1.05073588e+00, -9.99435236e-01, -1.03504368e+00,\n",
       "        -1.08757108e+00, -9.92853562e-01, -6.97558819e-01,\n",
       "        -6.97550615e-01, -8.11197462e-01, -7.52193613e-01,\n",
       "        -7.98559816e-01],\n",
       "       [-8.39789668e-01, -8.56607764e-01, -8.66738735e-01,\n",
       "        -8.04299711e-01, -9.09528214e-01,  1.18273826e+00,\n",
       "         1.12771091e+00,  9.79065513e-01,  1.08539030e+00,\n",
       "         1.15314226e+00],\n",
       "       [ 1.03635319e+00,  1.10402390e+00,  1.31805005e+00,\n",
       "         1.33137542e+00,  1.28897903e+00, -9.66172687e-01,\n",
       "        -1.13813098e+00, -1.03718727e+00, -1.09261559e+00,\n",
       "        -1.00070039e+00],\n",
       "       [-3.85935689e-01, -4.08648874e-01, -3.61823886e-01,\n",
       "        -3.77801249e-01, -3.55094173e-01,  1.40600173e+00,\n",
       "         1.37247778e+00,  1.34983003e+00,  1.40844381e+00,\n",
       "         1.35179765e+00],\n",
       "       [-1.02197049e+00, -9.96189157e-01, -1.10173055e+00,\n",
       "        -1.05574283e+00, -1.02490177e+00, -1.48246947e+00,\n",
       "        -1.48430127e+00, -1.52800887e+00, -1.47124819e+00,\n",
       "        -1.43286299e+00],\n",
       "       [ 1.28565326e+00,  1.53250631e+00,  1.67053777e+00,\n",
       "         1.33774107e+00,  1.48767793e+00, -1.15106275e+00,\n",
       "        -1.26401109e+00, -1.23139725e+00, -1.22114225e+00,\n",
       "        -1.22723724e+00],\n",
       "       [ 8.73349293e-01,  7.46955218e-01,  8.32188587e-01,\n",
       "         8.15757878e-01,  8.40304080e-01,  4.11781571e-01,\n",
       "         2.36060163e-01,  3.96435551e-01,  3.35072485e-01,\n",
       "         3.13213331e-01],\n",
       "       [ 1.25449075e-01,  2.21090435e-01,  9.86330516e-02,\n",
       "         1.53730416e-01,  7.43518484e-02,  1.52461045e+00,\n",
       "         1.61724465e+00,  1.58994420e+00,  1.65160236e+00,\n",
       "         1.75607879e+00],\n",
       "       [ 1.40071483e+00,  1.50004553e+00,  1.34663013e+00,\n",
       "         1.40776321e+00,  1.48126829e+00, -1.65340557e+00,\n",
       "        -1.63116139e+00, -1.71162559e+00, -1.65535395e+00,\n",
       "        -1.69425166e+00],\n",
       "       [ 1.41989176e+00,  1.42538571e+00,  1.32757674e+00,\n",
       "         1.41731168e+00,  1.49408757e+00,  1.25599658e+00,\n",
       "         1.26408102e+00,  9.50816788e-01,  1.07844292e+00,\n",
       "         1.25421255e+00],\n",
       "       [-1.45025523e+00, -1.48634707e+00, -1.47644723e+00,\n",
       "        -1.45677870e+00, -1.47037190e+00,  9.07147406e-01,\n",
       "         8.20003983e-01,  9.64941150e-01,  9.56863640e-01,\n",
       "         1.09389416e+00],\n",
       "       [-2.77266427e-01, -1.19747851e-01,  1.11335312e-01,\n",
       "        -6.58844638e-02, -2.82024253e-02,  1.24901960e+00,\n",
       "         1.35149776e+00,  1.14855787e+00,  1.32507516e+00,\n",
       "         8.98723954e-01],\n",
       "       [-1.31921288e+00, -1.28509018e+00, -1.27321107e+00,\n",
       "        -1.31991725e+00, -1.39345619e+00, -6.17323508e-01,\n",
       "        -4.77260431e-01, -6.69953835e-01, -6.34088030e-01,\n",
       "        -6.62637707e-01],\n",
       "       [-6.54412691e-01, -6.00167530e-01, -6.12693528e-01,\n",
       "        -6.76986737e-01, -6.08275036e-01, -1.62549764e+00,\n",
       "        -1.62766472e+00, -1.61628614e+00, -1.62409071e+00,\n",
       "        -1.57575546e+00],\n",
       "       [ 5.95283827e-01,  7.20986587e-01,  6.89288158e-01,\n",
       "         5.67497580e-01,  6.25581069e-01, -2.47543378e-01,\n",
       "        -1.73050178e-01, -1.75601140e-01, -2.72823895e-01,\n",
       "        -1.60771459e-01],\n",
       "       [ 1.53175718e+00,  1.47732297e+00,  1.43554595e+00,\n",
       "         1.41094603e+00,  1.44922008e+00, -6.83744391e-03,\n",
       "         9.26967106e-02,  1.31603750e-01,  2.44756451e-01,\n",
       "         1.70320858e-01],\n",
       "       [ 1.03875030e-02, -3.21037204e-02,  9.22819215e-02,\n",
       "         5.82456854e-02,  1.32038627e-01,  7.71096226e-01,\n",
       "         7.36083914e-01,  8.23697523e-01,  7.65810491e-01,\n",
       "         7.76742574e-01],\n",
       "       [-6.99158857e-01, -6.97549897e-01, -6.82555960e-01,\n",
       "        -6.83352386e-01, -6.72371457e-01,  3.76896653e-01,\n",
       "         3.51450260e-01,  1.21010478e-01,  4.11493744e-01,\n",
       "         1.80776405e-01],\n",
       "       [-9.16497382e-01, -8.82576395e-01, -9.30250037e-01,\n",
       "        -9.92086347e-01, -8.96708930e-01, -6.34765967e-01,\n",
       "        -6.94053945e-01, -7.05264742e-01, -6.93140821e-01,\n",
       "        -7.14915441e-01],\n",
       "       [-6.48020381e-01, -7.88440107e-01, -7.71471783e-01,\n",
       "        -7.34277575e-01, -6.78781099e-01,  1.30832396e+00,\n",
       "         1.20463764e+00,  1.13090241e+00,  1.15139048e+00,\n",
       "         1.24375700e+00],\n",
       "       [-6.16058833e-01, -4.99539084e-01, -6.44449179e-01,\n",
       "        -6.86535210e-01, -5.60202720e-01,  1.16180731e+00,\n",
       "         1.09973755e+00,  1.03203187e+00,  1.10275877e+00,\n",
       "         1.09737934e+00],\n",
       "       [-1.38633213e+00, -1.38571863e+00, -1.36212689e+00,\n",
       "        -1.37402527e+00, -1.38384173e+00, -1.70573295e+00,\n",
       "        -1.65214141e+00, -1.65159704e+00, -1.69356458e+00,\n",
       "        -1.65939984e+00],\n",
       "       [-6.25647298e-01, -6.29382240e-01, -7.14311611e-01,\n",
       "        -6.64255440e-01, -5.95455751e-01,  9.14124389e-01,\n",
       "         7.95527296e-01,  8.90788246e-01,  8.42231751e-01,\n",
       "         1.03464606e+00],\n",
       "       [ 1.05553012e+00,  1.13973077e+00,  1.03542475e+00,\n",
       "         1.04492123e+00,  1.00695477e+00,  6.28068062e-01,\n",
       "         4.87820373e-01,  7.17764803e-01,  5.81704731e-01,\n",
       "         5.78087185e-01],\n",
       "       [ 5.56929970e-01,  6.39834614e-01,  6.38479117e-01,\n",
       "         6.47068188e-01,  7.47364269e-01,  2.26891506e-01,\n",
       "         2.11583476e-01,  2.69316286e-01, -1.22968754e-02,\n",
       "         1.45924582e-01],\n",
       "       [ 1.59248412e+00,  1.29554255e+00,  1.47682830e+00,\n",
       "         1.48415099e+00,  1.43960562e+00,  6.45510521e-01,\n",
       "         5.01807052e-01,  8.83726065e-01,  5.43494101e-01,\n",
       "         6.51276012e-01],\n",
       "       [ 6.49618458e-01,  5.35960089e-01,  5.84494510e-01,\n",
       "         5.29303688e-01,  4.62135196e-01, -1.32199885e+00,\n",
       "        -1.31296446e+00, -1.29142579e+00, -1.31145828e+00,\n",
       "        -1.26905942e+00],\n",
       "       [ 1.12264937e+00,  1.24035921e+00,  9.81440146e-01,\n",
       "         1.19769680e+00,  1.08387048e+00, -5.51042164e-01,\n",
       "        -4.03830370e-01, -5.53427842e-01, -5.78508932e-01,\n",
       "        -5.12774869e-01],\n",
       "       [-2.83658736e-01, -1.71685114e-01, -1.07778679e-01,\n",
       "        -7.54329369e-02, -6.34554568e-02,  6.28068062e-01,\n",
       "         7.43077253e-01,  6.18894264e-01,  7.10231394e-01,\n",
       "         6.89613017e-01],\n",
       "       [ 6.78383851e-01,  6.33342456e-01,  7.24219374e-01,\n",
       "         7.74381162e-01,  5.35846080e-01,  7.15280357e-01,\n",
       "         7.36083914e-01,  7.74262254e-01,  7.86652653e-01,\n",
       "         8.74327678e-01],\n",
       "       [ 1.27926095e+00,  1.29229648e+00,  1.39108804e+00,\n",
       "         1.30591283e+00,  1.22488261e+00, -9.31287769e-01,\n",
       "        -9.00357450e-01, -9.66565452e-01, -9.71036309e-01,\n",
       "        -1.01115593e+00],\n",
       "       [-1.52376679e+00, -1.46037844e+00, -1.42246263e+00,\n",
       "        -1.51406954e+00, -1.50882975e+00, -1.28013695e+00,\n",
       "        -1.29198444e+00, -1.33026779e+00, -1.35314261e+00,\n",
       "        -1.28300015e+00],\n",
       "       [-3.44385677e-01, -1.78177271e-01, -1.77641111e-01,\n",
       "        -1.70917667e-01, -4.10217095e-02,  1.33274340e+00,\n",
       "         1.29904772e+00,  1.22977295e+00,  1.34939102e+00,\n",
       "         1.24375700e+00],\n",
       "       [ 1.21214170e+00,  1.20789842e+00,  1.37838578e+00,\n",
       "         1.30273000e+00,  1.42358151e+00, -1.22083259e+00,\n",
       "        -1.31995780e+00, -1.36557870e+00, -1.29756351e+00,\n",
       "        -1.30042606e+00],\n",
       "       [ 2.05352944e-01,  1.88629646e-01,  1.92439244e-02,\n",
       "         6.14285098e-02,  3.58939958e-02, -2.51031869e-01,\n",
       "        -6.11567510e-02, -1.65007868e-01, -3.56192542e-01,\n",
       "        -1.78197370e-01],\n",
       "       [-1.19456285e+00, -1.19095389e+00, -1.16206629e+00,\n",
       "        -1.13849627e+00, -1.15629944e+00, -1.75108334e+00,\n",
       "        -1.75354483e+00, -1.75046758e+00, -1.76303845e+00,\n",
       "        -1.76047012e+00],\n",
       "       [-9.70832013e-01, -9.21529342e-01, -9.17547777e-01,\n",
       "        -9.63440928e-01, -9.06323393e-01, -3.34895212e-03,\n",
       "         7.17166931e-02,  3.97953920e-02, -1.87579455e-03,\n",
       "        -1.43938028e-02],\n",
       "       [-1.59008700e-01, -2.52837086e-01, -2.18923457e-01,\n",
       "        -2.31391330e-01, -1.46780804e-01,  4.01316096e-01,\n",
       "         1.80113450e-01,  3.64655735e-01,  4.60125455e-01,\n",
       "         3.96857706e-01],\n",
       "       [-1.40550906e+00, -1.43440981e+00, -1.45421828e+00,\n",
       "        -1.36447679e+00, -1.41909476e+00, -2.61497345e-01,\n",
       "        -7.16467597e-02, -2.72953310e-02, -7.82970538e-02,\n",
       "        -8.75826307e-02],\n",
       "       [-1.52696294e+00, -1.53179218e+00, -1.49867619e+00,\n",
       "        -1.49815542e+00, -1.53446832e+00,  9.59474783e-01,\n",
       "         1.14169758e+00,  9.68472241e-01,  1.12012724e+00,\n",
       "         1.26815328e+00],\n",
       "       [ 1.19616093e+00,  1.12025429e+00,  1.04495145e+00,\n",
       "         1.02264146e+00,  1.14155726e+00,  1.39902475e+00,\n",
       "         1.63472800e+00,  1.43810730e+00,  1.46402291e+00,\n",
       "         1.59227523e+00],\n",
       "       [-1.17858207e+00, -1.11629408e+00, -1.11125725e+00,\n",
       "        -1.18305581e+00, -1.22039586e+00,  4.36201014e-01,\n",
       "         4.52853677e-01,  4.03497732e-01,  2.82967081e-01,\n",
       "         4.00342888e-01],\n",
       "       [-1.51417833e+00, -1.57399120e+00, -1.55583636e+00,\n",
       "        -1.55226343e+00, -1.55049242e+00,  1.39539672e-04,\n",
       "        -3.66800639e-02, -4.14196937e-02, -2.61916498e-02,\n",
       "         1.00024731e-02],\n",
       "       [ 2.14941409e-01,  3.50933591e-01,  2.82815827e-01,\n",
       "         3.00140335e-01,  3.37147175e-01, -4.81272328e-01,\n",
       "        -4.87750440e-01, -4.33370759e-01, -3.97876865e-01,\n",
       "        -4.98834140e-01],\n",
       "       [ 1.20894554e+00,  1.14622292e+00,  1.09576049e+00,\n",
       "         1.26453611e+00,  1.19283440e+00,  1.24204262e+00,\n",
       "         1.11722090e+00,  1.12737132e+00,  1.25560129e+00,\n",
       "         1.03116088e+00],\n",
       "       [-5.59327086e-03,  2.30796211e-02,  3.51217499e-02,\n",
       "        -6.58844638e-02,  3.90988168e-02, -1.61503216e+00,\n",
       "        -1.49828795e+00, -1.61981723e+00, -1.55114314e+00,\n",
       "        -1.65939984e+00],\n",
       "       [-1.36076290e+00, -1.31105881e+00, -1.33037124e+00,\n",
       "        -1.34537985e+00, -1.37102245e+00, -3.59175115e-01,\n",
       "        -2.81446935e-01, -1.93256593e-01, -3.00613444e-01,\n",
       "        -2.89723203e-01],\n",
       "       [ 1.47822158e-01,  8.47551204e-02,  1.78022179e-01,\n",
       "         1.40999118e-01,  9.03759537e-02, -7.88259605e-01,\n",
       "        -6.59087249e-01, -6.87609288e-01, -5.47245690e-01,\n",
       "        -6.41726613e-01],\n",
       "       [ 9.97999329e-01,  1.03585624e+00,  1.12434058e+00,\n",
       "         1.14677161e+00,  8.14665511e-01,  1.33274340e+00,\n",
       "         1.35149776e+00,  1.06028060e+00,  1.09233769e+00,\n",
       "         9.61457235e-01],\n",
       "       [ 1.38153790e+00,  1.33774158e+00,  1.33075231e+00,\n",
       "         1.31227848e+00,  1.31782242e+00, -1.73015239e+00,\n",
       "        -1.76053817e+00, -1.73634322e+00, -1.69356458e+00,\n",
       "        -1.73607385e+00],\n",
       "       [-1.52696294e+00, -1.58048336e+00, -1.52090514e+00,\n",
       "        -1.56181190e+00, -1.54408278e+00, -1.53354099e-01,\n",
       "        -1.71336809e-03, -1.12041507e-01, -1.68613087e-01,\n",
       "        -9.45529952e-02],\n",
       "       [ 8.28603126e-01,  9.90411137e-01,  8.48066413e-01,\n",
       "         7.83929635e-01,  8.88376396e-01, -1.26269449e+00,\n",
       "        -1.21505771e+00, -1.23845943e+00, -1.22461594e+00,\n",
       "        -1.26208906e+00],\n",
       "       [ 4.54653017e-01,  4.54808116e-01,  4.76525297e-01,\n",
       "         6.05691472e-01,  6.28785890e-01, -1.11966633e+00,\n",
       "        -1.18358769e+00, -1.20314853e+00, -1.16556315e+00,\n",
       "        -1.13313731e+00],\n",
       "       [ 1.38473406e+00,  1.34423374e+00,  1.39108804e+00,\n",
       "         1.52234488e+00,  1.47165383e+00, -1.18594767e+00,\n",
       "        -1.21156104e+00, -1.18549307e+00, -1.18987901e+00,\n",
       "        -1.12268177e+00],\n",
       "       [-1.97362557e-01, -1.16501772e-01, -3.26892670e-01,\n",
       "        -2.72768046e-01, -1.91648299e-01,  4.11781571e-01,\n",
       "         5.08800391e-01,  6.08300992e-01,  4.67072842e-01,\n",
       "         5.57176091e-01],\n",
       "       [-3.66758761e-01, -3.50219454e-01, -2.37976848e-01,\n",
       "        -3.30058884e-01, -2.01262762e-01, -5.58019147e-01,\n",
       "        -5.71670510e-01, -4.65150575e-01, -4.81245512e-01,\n",
       "        -5.92934061e-01],\n",
       "       [-1.22013209e+00, -1.24613723e+00, -1.16206629e+00,\n",
       "        -1.17987298e+00, -1.21078139e+00, -1.25920600e+00,\n",
       "        -1.24652774e+00, -1.14311999e+00, -1.15166838e+00,\n",
       "        -1.15753359e+00],\n",
       "       [ 7.39110792e-01,  5.94389509e-01,  7.46448330e-01,\n",
       "         6.34336891e-01,  6.48014817e-01, -1.26967147e+00,\n",
       "        -1.24652774e+00, -1.25258380e+00, -1.23503702e+00,\n",
       "        -1.32133716e+00],\n",
       "       [-3.57170296e-01, -3.89172401e-01, -3.30068235e-01,\n",
       "        -2.82316519e-01, -3.03817036e-01, -6.48719934e-01,\n",
       "        -7.39510650e-01, -7.01733651e-01, -6.27140643e-01,\n",
       "        -5.58082238e-01],\n",
       "       [-1.31282057e+00, -1.40194902e+00, -1.35895132e+00,\n",
       "        -1.34856267e+00, -1.39666101e+00,  1.45484062e+00,\n",
       "         1.14869092e+00,  1.48048039e+00,  1.32507516e+00,\n",
       "         1.43544203e+00],\n",
       "       [ 1.40391099e+00,  1.43837003e+00,  1.40696587e+00,\n",
       "         1.36638649e+00,  1.48447311e+00,  1.25250809e+00,\n",
       "         1.06477085e+00,  1.22624186e+00,  1.33202255e+00,\n",
       "         1.17753854e+00],\n",
       "       [-1.03475511e+00, -9.63728368e-01, -9.90585774e-01,\n",
       "        -9.88903523e-01, -1.06656445e+00, -4.77783836e-01,\n",
       "        -4.28307057e-01, -3.20375857e-01, -4.08297946e-01,\n",
       "        -3.76852760e-01],\n",
       "       [ 9.02913724e-02, -4.18419572e-02, -1.83992241e-01,\n",
       "         6.77941584e-02, -1.01913309e-01, -2.99870754e-01,\n",
       "        -2.67460256e-01, -2.49754044e-01, -1.65139394e-01,\n",
       "        -3.28060208e-01],\n",
       "       [ 6.59206923e-01,  7.27478745e-01,  6.86112593e-01,\n",
       "         6.97993378e-01,  5.67894290e-01,  4.92016882e-01,\n",
       "         3.68933608e-01,  4.10559913e-01,  4.70546535e-01,\n",
       "         5.36264997e-01],\n",
       "       [ 3.97122231e-01,  2.04860040e-01,  1.84373309e-01,\n",
       "         4.05173539e-01,  2.08954333e-01, -1.06036197e+00,\n",
       "        -1.01924422e+00, -1.03012508e+00, -9.95352165e-01,\n",
       "        -1.10525586e+00],\n",
       "       [-5.74508821e-01, -5.90429293e-01, -7.58769522e-01,\n",
       "        -7.94751238e-01, -6.94805204e-01,  1.20366921e+00,\n",
       "         9.31897410e-01,  1.06734278e+00,  1.22781174e+00,\n",
       "         9.71912782e-01],\n",
       "       [-1.61325912e+00, -1.60969807e+00, -1.58441645e+00,\n",
       "        -1.61591992e+00, -1.60817920e+00, -1.80341072e+00,\n",
       "        -1.79550486e+00, -1.78930958e+00, -1.76651214e+00,\n",
       "        -1.81274786e+00],\n",
       "       [ 1.40071483e+00,  1.04234840e+00,  1.21960753e+00,\n",
       "         1.13404031e+00,  1.24090671e+00,  3.59454194e-01,\n",
       "         4.59847017e-01,  4.21153186e-01,  4.63599148e-01,\n",
       "         5.11868721e-01],\n",
       "       [-1.10507051e+00, -1.15524702e+00, -1.13348620e+00,\n",
       "        -1.19260428e+00, -1.16911872e+00,  1.40935068e-02,\n",
       "         5.77300148e-02,  1.86088479e-02,  7.10717711e-02,\n",
       "         4.48542959e-02],\n",
       "       [ 1.89372171e-01,  2.17844356e-01,  1.46266528e-01,\n",
       "         3.03323160e-01,  2.79460396e-01,  1.06412954e+00,\n",
       "         1.26058435e+00,  1.17680659e+00,  1.29728561e+00,\n",
       "         1.12874598e+00],\n",
       "       [ 5.63322279e-01,  8.11876796e-01,  7.65501720e-01,\n",
       "         6.18422769e-01,  5.93532859e-01,  1.36762832e+00,\n",
       "         1.21163098e+00,  1.30392586e+00,  1.39107534e+00,\n",
       "         1.31346065e+00],\n",
       "       [ 1.38473406e+00,  1.62015045e+00,  1.39426361e+00,\n",
       "         1.48415099e+00,  1.51011168e+00,  3.48988719e-01,\n",
       "         1.45146754e-01,  2.90502830e-01,  2.30861677e-01,\n",
       "         1.25013488e-01],\n",
       "       [ 1.40710714e+00,  1.01962585e+00,  1.15927179e+00,\n",
       "         1.06401818e+00,  1.04220781e+00,  4.53643473e-01,\n",
       "         6.06707139e-01,  3.61124644e-01,  3.14230323e-01,\n",
       "         2.64420779e-01],\n",
       "       [ 1.06511858e+00,  1.07156311e+00,  1.20690527e+00,\n",
       "         1.21361092e+00,  1.24731635e+00,  8.09469636e-01,\n",
       "         9.10917393e-01,  9.72003332e-01,  1.05412706e+00,\n",
       "         8.22049944e-01],\n",
       "       [-6.70393464e-01, -6.91057739e-01, -6.25395789e-01,\n",
       "        -6.45158494e-01, -6.37118425e-01, -1.68829049e+00,\n",
       "        -1.70808812e+00, -1.69750122e+00, -1.66577503e+00,\n",
       "        -1.71167757e+00],\n",
       "       [ 2.75668350e-01,  2.30828671e-01,  1.33564268e-01,\n",
       "         1.85558659e-01,  2.05749512e-01, -1.25446165e-01,\n",
       "        -1.03116786e-01,  8.01557585e-03, -1.26928764e-01,\n",
       "        -2.83345319e-02],\n",
       "       [-3.31601058e-01, -3.89172401e-01, -4.72968664e-01,\n",
       "        -4.73285979e-01, -4.73672551e-01,  4.67597440e-01,\n",
       "         3.16483564e-01,  3.22282646e-01,  3.24651404e-01,\n",
       "         3.48065154e-01],\n",
       "       [-7.05551167e-01, -6.61843029e-01, -7.33365002e-01,\n",
       "        -6.57889791e-01, -7.62106446e-01, -1.15455124e+00,\n",
       "        -1.14162765e+00, -1.12546453e+00, -1.15166838e+00,\n",
       "        -1.15056323e+00],\n",
       "       [-3.11625091e-02, -2.43098850e-01, -1.90343371e-01,\n",
       "        -1.10444005e-01, -1.21783200e-02,  8.05981144e-01,\n",
       "         9.14414062e-01,  9.01381518e-01,  7.06757700e-01,\n",
       "         9.89338693e-01],\n",
       "       [-1.24570132e+00, -1.31430489e+00, -1.29226446e+00,\n",
       "        -1.24671229e+00, -1.21719104e+00,  8.51331537e-01,\n",
       "         7.43077253e-01,  9.68472241e-01,  8.59600219e-01,\n",
       "         6.89613017e-01],\n",
       "       [ 7.10345399e-01,  6.17112062e-01,  6.44830247e-01,\n",
       "         8.34854824e-01,  7.08906417e-01,  7.11652326e-03,\n",
       "         1.92666494e-02, -2.37642403e-02,  1.54926735e-02,\n",
       "         1.00024731e-02],\n",
       "       [ 1.34318404e+00,  1.44486218e+00,  1.45142378e+00,\n",
       "         1.45550557e+00,  1.57100328e+00,  1.50367950e+00,\n",
       "         1.66270135e+00,  1.59700638e+00,  1.51612831e+00,\n",
       "         1.33785692e+00],\n",
       "       [-1.55812545e-01, -1.61946877e-01, -6.64963330e-02,\n",
       "        -1.67734843e-01, -1.14732594e-01, -4.11502492e-01,\n",
       "        -4.59777083e-01, -5.78145477e-01, -5.36824609e-01,\n",
       "        -3.59426848e-01],\n",
       "       [-1.19456285e+00, -1.15849310e+00, -1.24780655e+00,\n",
       "        -1.21806688e+00, -1.20437175e+00,  3.42011735e-01,\n",
       "         3.02496885e-01,  3.96435551e-01,  3.90651582e-01,\n",
       "         4.35194711e-01],\n",
       "       [-1.34158597e+00, -1.30781273e+00, -1.33354680e+00,\n",
       "        -1.33583138e+00, -1.25244407e+00,  6.87372423e-01,\n",
       "         5.61250434e-01,  6.78922805e-01,  7.20652475e-01,\n",
       "         5.85057549e-01],\n",
       "       [ 2.78864504e-01,  3.47687512e-01,  4.86051992e-01,\n",
       "         3.25602930e-01,  2.21773617e-01,  1.27692754e+00,\n",
       "         1.47737786e+00,  1.28980149e+00,  1.42928597e+00,\n",
       "         1.19496445e+00]])"
      ]
     },
     "execution_count": 158,
     "metadata": {},
     "output_type": "execute_result"
    }
   ],
   "source": [
    "scaled"
   ]
  },
  {
   "cell_type": "code",
   "execution_count": 159,
   "metadata": {},
   "outputs": [],
   "source": [
    "pca = PCA(n_components=5)"
   ]
  },
  {
   "cell_type": "code",
   "execution_count": 160,
   "metadata": {},
   "outputs": [],
   "source": [
    "data1 = pca.fit_transform(scaled)"
   ]
  },
  {
   "cell_type": "code",
   "execution_count": 162,
   "metadata": {},
   "outputs": [
    {
     "data": {
      "text/plain": [
       "(100, 5)"
      ]
     },
     "execution_count": 162,
     "metadata": {},
     "output_type": "execute_result"
    }
   ],
   "source": [
    "data1.shape"
   ]
  },
  {
   "cell_type": "code",
   "execution_count": null,
   "metadata": {},
   "outputs": [],
   "source": []
  }
 ],
 "metadata": {
  "kernelspec": {
   "display_name": "Python 3",
   "language": "python",
   "name": "python3"
  },
  "language_info": {
   "codemirror_mode": {
    "name": "ipython",
    "version": 3
   },
   "file_extension": ".py",
   "mimetype": "text/x-python",
   "name": "python",
   "nbconvert_exporter": "python",
   "pygments_lexer": "ipython3",
   "version": "3.7.3"
  }
 },
 "nbformat": 4,
 "nbformat_minor": 2
}
